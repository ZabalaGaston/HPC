{
  "nbformat": 4,
  "nbformat_minor": 0,
  "metadata": {
    "colab": {
      "name": "Zabala_Gaston_ejercicio_3.ipynb",
      "provenance": [],
      "authorship_tag": "ABX9TyMjy5eVAf2OKlUoh2CUBsVq",
      "include_colab_link": true
    },
    "kernelspec": {
      "name": "python3",
      "display_name": "Python 3"
    }
  },
  "cells": [
    {
      "cell_type": "markdown",
      "metadata": {
        "id": "view-in-github",
        "colab_type": "text"
      },
      "source": [
        "<a href=\"https://colab.research.google.com/github/ZabalaGaston/HPC/blob/main/Zabala_Gaston_ejercicio_3.ipynb\" target=\"_parent\"><img src=\"https://colab.research.google.com/assets/colab-badge.svg\" alt=\"Open In Colab\"/></a>"
      ]
    },
    {
      "cell_type": "markdown",
      "metadata": {
        "id": "slGRvo9aOCMd"
      },
      "source": [
        "Crea una seccion paralela y le ponemos la directiva for indicando que es un ciclo for,\n",
        "entonces para cada valor de i, va estar creando un hilo que resuelve una parte del algoritmo\n",
        "\n",
        "Va a ir tomando tantos valores como el tamaño del vector.\n",
        "\n",
        "Por defecto, openmp sabe que vamos a iterar por el valor i, porque es el valor que se toma para iterar.\n",
        "\n",
        "Se crean la cantidad de hilos que le decimos, y mientras dure o haya valores para procesar, los hilos van a seguir vivos.\n",
        "\n",
        "Pendiente: calcular el promedio en C\n",
        "**Pasarle los parámetros por phyton**\n"
      ]
    },
    {
      "cell_type": "code",
      "metadata": {
        "id": "1nBwkeo23jku"
      },
      "source": [
        "#OpenMP\n",
        "code = \"\"\"\n",
        "\n",
        "#include <iostream>\n",
        "#include <vector>\n",
        "#include <cstdlib>\n",
        "#include  <sys/time.h>\n",
        "#include <omp.h> //Cabecera OpenMP\n",
        "\n",
        "\n",
        "//------------------------------------------------\n",
        "// Macros para medir el tiempo\n",
        "\n",
        "static double dHashTiempoHistory[3];\n",
        "static struct timeval tv;\n",
        "\n",
        "#define TIEMPO_INI( h )      \\\n",
        "  gettimeofday(&tv, NULL);    \\\n",
        "  dHashTiempoHistory[ h ] = tv.tv_sec + tv.tv_usec/1000000.0;\n",
        "  \n",
        "#define TIEMPO_FIN( h )      \\\n",
        "  gettimeofday(&tv, NULL);    \\\n",
        "  dHashTiempoHistory[ h ] = ((tv.tv_sec + tv.tv_usec/1000000.0) - dHashTiempoHistory[ h ]) * 1000; //\n",
        "\n",
        "#define TIEMPO_GET( h ) dHashTiempoHistory[ h ]\n",
        "\n",
        "#define HTH_TOTAL     1\n",
        "#define HTH_ACEL_SEC  2\n",
        "#define HTH_ACEL_OMP  3\n",
        "\n",
        "//---------------------------------------------------------\n",
        "\n",
        "int main(int argc, char*argv[])\n",
        "{\n",
        "  int i,c;\n",
        "  TIEMPO_INI ( HTH_TOTAL )\n",
        "\n",
        "  //Leo los parametros.\n",
        "  if (argc != 4 )\n",
        "  {\n",
        "    std::cerr<<\"Error al ingresar los parámetros\" <<std::endl;\n",
        "    exit( - 1 );\n",
        "   }\n",
        "\n",
        "   int time       =  atoi( argv[1] );\n",
        "   int cantidad_N =  atoi( argv[2] );\n",
        "   int ciclos     =  atoi( argv[3] );\n",
        "\n",
        "   //-----------------------------------------------------\n",
        "   // Defino la memoria de los vectores para la velocidad inicial y final\n",
        "\n",
        "   std:: vector<double>   VI ( cantidad_N );\n",
        "   std:: vector<double>   VF ( cantidad_N );\n",
        "   std:: vector<double>   AC ( cantidad_N );\n",
        "\n",
        "   for (int i = 0; i < cantidad_N; i++)\n",
        "   {\n",
        "      VI[i] = 44*0.1; //obtener función en c para calcular numeros aleatorios\n",
        "      VF[i] = 99*0.1; //\n",
        "   }\n",
        "\n",
        "  //------------------------------------------\n",
        "  // Realizo el cálculo de la aceleración en forma secuencial\n",
        "\n",
        "  TIEMPO_INI ( HTH_ACEL_SEC )\n",
        "\n",
        "  for(c=0; c<ciclos; c++)\n",
        "  {\n",
        "    for(i=0; i< cantidad_N; i++)\n",
        "    {\n",
        "      AC[i] = (VF[i] - VI[i]) / time;\n",
        "    }\n",
        "  }\n",
        "\n",
        "  TIEMPO_FIN ( HTH_ACEL_SEC )\n",
        "\n",
        "  // ---------------------------------------------\n",
        "  // Realizo el cálculo de la aceleración con OpenMP\n",
        "\n",
        "  TIEMPO_INI ( HTH_ACEL_OMP )\n",
        "\n",
        "  for(c=0; c<ciclos; c++)\n",
        "  {\n",
        "    #pragma omp parallel for\n",
        "    for(i=0; i< cantidad_N; i++)\n",
        "    {\n",
        "      AC[i] = (VF[i] - VI[i]) / time;\n",
        "    }\n",
        "  }\n",
        "\n",
        "  TIEMPO_FIN ( HTH_ACEL_OMP )\n",
        "\n",
        "  //------------------------------------------------\n",
        "\n",
        "  std::cout<<\"Valores Reales  : \" <<std::endl;\n",
        "  std::cout<<\"Tiempo total    : \" <<TIEMPO_GET( HTH_TOTAL )<<  \" [ms]\"<<std::endl;\n",
        "  std::cout<<\"Tiempo Acel sec : \" <<TIEMPO_GET( HTH_ACEL_SEC)<< \" [ms]\"<<std::endl;\n",
        "  std::cout<<\"Tiempo Acel Omp : \" <<TIEMPO_GET( HTH_ACEL_OMP)<< \" [ms]\"<<std::endl;\n",
        "  std::cout<<std::endl;  \n",
        "}\n",
        "\"\"\"\n",
        "\n",
        "text_file = open(\"code_acel.cpp\",\"w\")\n",
        "text_file.write(code)\n",
        "text_file.close()\n",
        "\n"
      ],
      "execution_count": 29,
      "outputs": []
    },
    {
      "cell_type": "markdown",
      "metadata": {
        "id": "AgfVNCHAA1tQ"
      },
      "source": [
        "##2.1 Compilación de código C (cálculo de aceleración)"
      ]
    },
    {
      "cell_type": "code",
      "metadata": {
        "id": "0HY_7zmcAo3R"
      },
      "source": [
        "!g++ -o acel -fopenmp code_acel.cpp"
      ],
      "execution_count": 30,
      "outputs": []
    },
    {
      "cell_type": "markdown",
      "metadata": {
        "id": "3Hv6IN8BFcix"
      },
      "source": [
        "#2.2 Ejecucion Cálculo de aceleración"
      ]
    },
    {
      "cell_type": "code",
      "metadata": {
        "colab": {
          "base_uri": "https://localhost:8080/"
        },
        "id": "GaBLHSu1FcGX",
        "outputId": "91dc12ea-9c31-43f1-950f-d81c7983712a"
      },
      "source": [
        "%env OMP_NUM_THREADS=2\n",
        "!./acel 10 40000  20"
      ],
      "execution_count": 31,
      "outputs": [
        {
          "output_type": "stream",
          "text": [
            "env: OMP_NUM_THREADS=2\n",
            "Valores Reales  : \n",
            "Tiempo total    : 1.60582e+09 [ms]\n",
            "Tiempo Acel sec : 9.90415 [ms]\n",
            "Tiempo Acel Omp : 7.25484 [ms]\n",
            "\n"
          ],
          "name": "stdout"
        }
      ]
    }
  ]
}