{
  "nbformat": 4,
  "nbformat_minor": 0,
  "metadata": {
    "colab": {
      "name": "Zabala_Gaston_ejercicio_3.ipynb",
      "provenance": [],
      "authorship_tag": "ABX9TyPpBeaundsV7kuMrgWNHOvI",
      "include_colab_link": true
    },
    "kernelspec": {
      "name": "python3",
      "display_name": "Python 3"
    }
  },
  "cells": [
    {
      "cell_type": "markdown",
      "metadata": {
        "id": "view-in-github",
        "colab_type": "text"
      },
      "source": [
        "<a href=\"https://colab.research.google.com/github/ZabalaGaston/HPC/blob/main/Zabala_Gaston_ejercicio_3.ipynb\" target=\"_parent\"><img src=\"https://colab.research.google.com/assets/colab-badge.svg\" alt=\"Open In Colab\"/></a>"
      ]
    },
    {
      "cell_type": "markdown",
      "metadata": {
        "id": "dbIPN-utyjCe"
      },
      "source": [
        "#1 Introducción\n",
        "\n",
        "La ley de la gravitación universal formulada por Isaac Newton postula que la fuerza que ejerce una partícula puntual con masa **m1** sobre otra con masa **m2** es directamente proporcional al producto de las masas, e inversamente proporcional al cuadrado de la distancia que las separa: [1]\n",
        "\n",
        ">$F = G\\frac{m1* m2}{r^2} $\n",
        "\n",
        "**G** es la constante de gravitación universal y vale aproximadamente 6,674 * 10^-11\n",
        "\n",
        "La masa de la Tierra es 5,974 × 1024 kg. \n",
        "\n",
        "A modo de demostración del ejercicio, se incluyo al inicio el calculo en el lenugaje Python[1,2,3] con el fin de representar en forma gráfica el resultado obtenido. \n",
        "\n",
        "En este ejercico, se busca realizar una comparación directa entre una ejecución en serie y una en paralelo sobre el mismo juego de valores. Para ello, se utilizara **OpenMP[5]** para realizar en varios hilos de ejecución una programación paralela.\n",
        "\n"
      ]
    },
    {
      "cell_type": "markdown",
      "metadata": {
        "id": "bqsIfTYvaUns"
      },
      "source": [
        "#2 Armado del ambiente\n",
        "\n",
        "No son necesarios, ejecuciones previas del armado del ambiente."
      ]
    },
    {
      "cell_type": "markdown",
      "metadata": {
        "id": "vQ8KXGkk9Fty"
      },
      "source": [
        "#3 Desarrollo\n",
        "Ejemplo desarrollado en Python. En esta sección, ejecutaremos el algoritmo para x cantidad de elementos ingresados por parámetro. <br>\n",
        "Luego, realizaremos un muestreo de los datos obtenidos en dos gráficos. Si bien muestran la misma información, pudimos explorar como realizar gráficos y como mostrarlos en simultáneo, haciendo uso de subplot [6]."
      ]
    },
    {
      "cell_type": "code",
      "metadata": {
        "colab": {
          "base_uri": "https://localhost:8080/",
          "height": 434
        },
        "id": "p1JzZOKy9EWP",
        "outputId": "2e795ee8-0e60-4d88-eee5-04b1505f0af7"
      },
      "source": [
        "#@title ## Parámetros de ejecución\n",
        "\n",
        "#@markdown ---\n",
        "#@markdown ### Especifique la cantidad de elementos a las cuales se les va a calcular la fuerza gravitatoria:\n",
        "\n",
        "elementos = 628338#@param {type:\"slider\", min:10, max:2000000, step:1}\n",
        "\n",
        "try:\n",
        "  import numpy as np\n",
        "  import matplotlib.pyplot as plt\n",
        "  from matplotlib import animation, rc\n",
        "  from IPython.display import HTML\n",
        "\n",
        "  # Variables constantes\n",
        "  r = 6378140\n",
        "  G = 6.674 * pow(10,-11);\n",
        "  masaTierra = 5.974 * pow(10,24);\n",
        "  pesoMinimo = 30\n",
        "  pesoMaximo = 120\n",
        "  \n",
        "  # Creo el vector con las masas de los cuerpos\n",
        "  v_masasCuerpos  = np.random.randint(pesoMinimo, pesoMaximo, size=elementos)\n",
        "  v_fg  = np.zeros(elementos)\n",
        "\n",
        "  for i in range( 0, elementos ):\n",
        "    v_fg[i] = G * masaTierra  *  v_masasCuerpos[i] / pow(r,2);\n",
        "\n",
        "  x = 8 # Estoy limitando a que me muestre x resultados\n",
        "  #v_fg[0:x] recupera valores de 0 a x, esto lo hago para que no \n",
        "  #quede un grafico extenso\n",
        "\n",
        "  plt.title(\"Muestra de resultados obtenidos\" )\n",
        "\n",
        "  plt.subplot(2, 1, 1)\n",
        "  plt.ylabel('Fuerza gravitatoria [N]')\n",
        "  plt.bar(range(x), v_fg[0:x], edgecolor = \"green\", color = \"blue\")\n",
        "  plt.xticks (range(x), v_masasCuerpos[0:x],rotation = 60)\n",
        "  plt.ylim(min(v_fg[0:x])-1,max(v_fg[0:x])+1)\n",
        "\n",
        "# creamos el segundo panel\n",
        "  plt.subplot(2, 1, 2)\n",
        "  plt.barh(range(x), v_fg[0:x], edgecolor = \"blue\", color = \"green\")\n",
        "  plt.yticks (range(x), v_masasCuerpos[0:x])\n",
        "  plt.xlim(min(v_fg[0:x])-1,max(v_fg[0:x])+1)\n",
        "  plt.ylabel('Pesos [KG]')\n",
        "\n",
        "except ModuleNotFoundError:\n",
        "  print(\"Error en modulos utilizados\")\n",
        "except Exception as e:\n",
        "  print(\"Error:\",e.args)"
      ],
      "execution_count": 144,
      "outputs": [
        {
          "output_type": "display_data",
          "data": {
            "image/png": "[encoded data removed]",
            "text/plain": [
              "<Figure size 640x480 with 2 Axes>"
            ]
          },
          "metadata": {
            "tags": []
          }
        }
      ]
    },
    {
      "cell_type": "markdown",
      "metadata": {
        "id": "wNOJ8jds9y52"
      },
      "source": [
        "##3.1 Generar code_fg.cpp\n",
        "Mediante código Python, genero una cadena de texto con código C. Luego, guardo la cadena en el archivo code_fg.cpp"
      ]
    },
    {
      "cell_type": "code",
      "metadata": {
        "id": "1nBwkeo23jku"
      },
      "source": [
        "code = \"\"\"\n",
        "\n",
        "#include <iostream>\n",
        "#include <vector>\n",
        "#include <cstdlib>\n",
        "#include <sys/time.h>\n",
        "#include <math.h>\n",
        "#include <omp.h> //Cabecera OpenMP\n",
        "\n",
        "//------------------------------------------------\n",
        "// Macros para medir el tiempo\n",
        "\n",
        "static double dHashTiempoHistory[3];\n",
        "static struct timeval tv;\n",
        "\n",
        "#define TIEMPO_INI( h )      \\\n",
        "   gettimeofday(&tv,NULL);   \\\n",
        "   dHashTiempoHistory[ h ] = tv.tv_sec + tv.tv_usec/1000000.0;\n",
        "   \n",
        "   \n",
        "#define TIEMPO_FIN( h )      \\\n",
        "   gettimeofday(&tv,NULL);   \\\n",
        "   dHashTiempoHistory[ h ] = ((tv.tv_sec + tv.tv_usec/1000000.0) - dHashTiempoHistory[ h ]) * 1000; // Devuelvo en milisegundos\n",
        "#define TIEMPO_GET( h ) dHashTiempoHistory[ h ]\n",
        "\n",
        "#define HTH_TOTAL     1\n",
        "#define HTH_FG_SEC  2\n",
        "#define HTH_FG_OMP  3\n",
        "#define DISTANCIA  6378140\n",
        "//---------------------------------------------------------\n",
        "\n",
        "int main(int argc, char*argv[])\n",
        "{\n",
        "  int i,c;\n",
        "  TIEMPO_INI ( HTH_TOTAL )\n",
        "\n",
        "  //Leo los parametros.\n",
        "  if (argc != 3 )\n",
        "  {\n",
        "    std::cerr<<\"Error al ingresar los parámetros\" <<std::endl;\n",
        "    exit( - 1 );\n",
        "   }\n",
        "\n",
        "   int cantidadCuerpos  =  atoi( argv[1] );\n",
        "   int ciclos           =  atoi( argv[2] );\n",
        "\n",
        "   double masaTierra;\n",
        "   double g;\n",
        "\n",
        "   g = 6.674 * pow(10,-11);\n",
        "   masaTierra = 5.974 * pow(10,24);\n",
        "    \n",
        "   if ( cantidadCuerpos <= 0)\n",
        "   {\n",
        "      std::cerr<<\"La cantidad de cuerpos debe ser mayor a 0 [Parametro 1]\" <<std::endl;\n",
        "      exit( - 2 );\n",
        "   }\n",
        "\n",
        "   if ( ciclos <= 0)\n",
        "   {\n",
        "      std::cerr<<\"La cantidad de ciclos debe ser mayor a 0 [Parametro 2]\" <<std::endl;\n",
        "      exit( - 3 );\n",
        "   }\n",
        "\n",
        "   //-----------------------------------------------------\n",
        "   // Defino la memoria de los vectores para la masa de los cuerpos\n",
        "\n",
        "   std:: vector<double>   masaCuerpos ( cantidadCuerpos );\n",
        "   std:: vector<double>   fuerzaGrav ( cantidadCuerpos );\n",
        "\n",
        "   for (int i = 0; i < cantidadCuerpos; i++)\n",
        "   {\n",
        "      masaCuerpos[i] = (rand()/(double)RAND_MAX)*100.0; \n",
        "   }\n",
        "\n",
        "  //------------------------------------------\n",
        "  // Realizo el cálculo de la fuerza gravitatoria de los cuerpos con relación a la tierra en forma secuencial\n",
        "\n",
        "  TIEMPO_INI ( HTH_FG_SEC )\n",
        "\n",
        "  for(c=0; c<ciclos; c++)\n",
        "  {\n",
        "    for(i=0; i< cantidadCuerpos ; i++)\n",
        "    {\n",
        "       fuerzaGrav[i] = g * masaTierra  *  masaCuerpos[i] / pow(DISTANCIA,2);\n",
        "    }\n",
        "  }\n",
        "\n",
        "  TIEMPO_FIN ( HTH_FG_SEC )\n",
        "\n",
        "  // ---------------------------------------------\n",
        "  // Realizo el cálculo de la aceleración con OpenMP\n",
        "\n",
        "  TIEMPO_INI ( HTH_FG_OMP )\n",
        "\n",
        "  for(c=0; c<ciclos; c++)\n",
        "  {\n",
        "    #pragma omp parallel for\n",
        "    for(i=0; i< cantidadCuerpos ; i++)\n",
        "    {\n",
        "      fuerzaGrav[i] = g * masaTierra  *  masaCuerpos[i] / pow(DISTANCIA,2);\n",
        "    }\n",
        "  }\n",
        "\n",
        "  TIEMPO_FIN ( HTH_FG_OMP )\n",
        "\n",
        "  //------------------------------------------------\n",
        "  std::cout<<\"Valores Reales  : \" <<std::endl;\n",
        "  std::cout<<\"Tiempo Fuerza gravitatoria sec : \" <<TIEMPO_GET(HTH_FG_SEC)<< \" [ms]\"<<std::endl;\n",
        "  std::cout<<\"Tiempo Fuerza gravitatoria Omp : \" <<TIEMPO_GET(HTH_FG_OMP)<< \" [ms]\"<<std::endl;\n",
        "  std::cout<<std::endl;  \n",
        "  std::cout<<\"SpeedUp          :  (tiempo Secuencial/tiempo paralelo) : \"<<TIEMPO_GET(HTH_FG_SEC)<<\" / \"<<TIEMPO_GET(HTH_FG_OMP)<<\" = \"<<TIEMPO_GET(HTH_FG_SEC)/TIEMPO_GET(HTH_FG_OMP)<<std::endl;\n",
        "  std::cout<<\"Eficiencia       : SpeedUp/nro procesadores            : \"<<TIEMPO_GET(HTH_FG_SEC)/TIEMPO_GET(HTH_FG_OMP)<<\" / \"<<omp_get_num_procs()<<\" = \"<<TIEMPO_GET(HTH_FG_SEC)/(omp_get_num_procs()*TIEMPO_GET(HTH_FG_OMP))<<std::endl;\n",
        "\n",
        "  std::cout<<\"-------------------------------------------------------------------------------------\"<<std::endl;\n",
        "  std::cout<<std::endl;\n",
        "  std::cout<<\"Valores Ideal: \"<<std::endl;\n",
        "  TIEMPO_GET(HTH_FG_OMP) = TIEMPO_GET(HTH_FG_SEC) / 2;\n",
        "  std::cout<<\"SpeedUp          : (tiempo Secuencial/tiempo paralelo) : \"<<TIEMPO_GET(HTH_FG_SEC)<<\" / \"<<TIEMPO_GET(HTH_FG_OMP)<<\" = \"<<TIEMPO_GET(HTH_FG_SEC)/TIEMPO_GET(HTH_FG_OMP)<<std::endl;\n",
        "  std::cout<<\"Eficiencia       : SpeedUp/nro procesadores            : \"<<TIEMPO_GET(HTH_FG_SEC)/TIEMPO_GET(HTH_FG_OMP)<<\" / \"<<omp_get_num_procs()<<\" = \"<<TIEMPO_GET(HTH_FG_SEC)/(omp_get_num_procs()*TIEMPO_GET(HTH_FG_OMP))<<std::endl;\n",
        "  std::cout<<\"Coste Sec        : nro procesadores*Tiempo             : \"<<1<<\" * \"<<TIEMPO_GET(HTH_FG_SEC)<<\" = \"<<TIEMPO_GET(HTH_FG_SEC)<<std::endl;\n",
        "  std::cout<<\"Coste Omp        : nro procesadores*Tiempo             : \"<<omp_get_num_procs()<<\" * \"<<TIEMPO_GET(HTH_FG_OMP)<<\" = \"<<omp_get_num_procs()*TIEMPO_GET(HTH_FG_OMP)<<std::endl;\n",
        "  std::cout<<\"Funcion Overhead : Coste Omp - tiempo Secuencial       : \"<<omp_get_num_procs()*TIEMPO_GET(HTH_FG_OMP)<<\" - \"<<TIEMPO_GET(HTH_FG_SEC)<<\" = \"<<(omp_get_num_procs()*TIEMPO_GET(HTH_FG_OMP))-TIEMPO_GET(HTH_FG_SEC)<<std::endl;\n",
        "\n",
        "}\n",
        "\"\"\"\n",
        "\n",
        "text_file = open(\"code_fg.cpp\",\"w\")\n",
        "text_file.write(code)\n",
        "text_file.close()\n",
        "\n"
      ],
      "execution_count": 139,
      "outputs": []
    },
    {
      "cell_type": "markdown",
      "metadata": {
        "id": "AgfVNCHAA1tQ"
      },
      "source": [
        "##3.2 Compilación de código C (cálculo de aceleración)"
      ]
    },
    {
      "cell_type": "code",
      "metadata": {
        "id": "0HY_7zmcAo3R"
      },
      "source": [
        "!g++ -o fg -fopenmp code_fg.cpp"
      ],
      "execution_count": 140,
      "outputs": []
    },
    {
      "cell_type": "markdown",
      "metadata": {
        "id": "0IoHf36p-dwq"
      },
      "source": [
        "##3.3 Configuro cantidad de hilos a ejecutar en forma paralela"
      ]
    },
    {
      "cell_type": "code",
      "metadata": {
        "colab": {
          "base_uri": "https://localhost:8080/"
        },
        "id": "-WhhJZWY-lFE",
        "outputId": "130eeea5-1615-49cb-f967-22c67900db5b"
      },
      "source": [
        "%env OMP_NUM_THREADS=2"
      ],
      "execution_count": 141,
      "outputs": [
        {
          "output_type": "stream",
          "text": [
            "env: OMP_NUM_THREADS=2\n"
          ],
          "name": "stdout"
        }
      ]
    },
    {
      "cell_type": "markdown",
      "metadata": {
        "id": "6ikvs4vJy3eA"
      },
      "source": [
        "Ejecución del calculo de la fuerza gravitatoria en Serie y Paralela"
      ]
    },
    {
      "cell_type": "code",
      "metadata": {
        "colab": {
          "base_uri": "https://localhost:8080/"
        },
        "id": "GaBLHSu1FcGX",
        "outputId": "ea71f70c-e82b-4186-af9e-d4db7fecdc67"
      },
      "source": [
        "# --------------------------------------------\n",
        "from datetime import datetime\n",
        "tiempo_total = datetime.now()\n",
        "\n",
        "# --------------------------------------------\n",
        "# Definición de función que transforma el tiempo en  milisegundos \n",
        "tiempo_en_ms = lambda dt:(dt.days * 24 * 60 * 60 + dt.seconds) * 1000 + dt.microseconds / 1000.0\n",
        "\n",
        "#----------------------------------------------------------------------\n",
        "try:\n",
        "\n",
        "#---- Ejecución\n",
        "\n",
        "# Parámetros:\n",
        "# 2 -> Cantidad de Cuerpos\n",
        "# 3 -> Cantidad de ciclos\n",
        "\n",
        "  !./fg 10000000 2\n",
        "#----\n",
        "\n",
        "  tiempo_total = datetime.now() - tiempo_total;\n",
        "  print(\"Tiempo Total: \", tiempo_en_ms( tiempo_total ), \"[ms]\" )\n",
        "\n",
        "except Exception as e:\n",
        "  print(\"Error:\",e.args)"
      ],
      "execution_count": 142,
      "outputs": [
        {
          "output_type": "stream",
          "text": [
            "Valores Reales  : \n",
            "Tiempo Fuerza gravitatoria sec : 334.783 [ms]\n",
            "Tiempo Fuerza gravitatoria Omp : 308.485 [ms]\n",
            "\n",
            "SpeedUp          :  (tiempo Secuencial/tiempo paralelo) : 334.783 / 308.485 = 1.08525\n",
            "Eficiencia       : SpeedUp/nro procesadores            : 1.08525 / 2 = 0.542625\n",
            "-------------------------------------------------------------------------------------\n",
            "\n",
            "Valores Ideal: \n",
            "SpeedUp          : (tiempo Secuencial/tiempo paralelo) : 334.783 / 167.392 = 2\n",
            "Eficiencia       : SpeedUp/nro procesadores            : 2 / 2 = 1\n",
            "Coste Sec        : nro procesadores*Tiempo             : 1 * 334.783 = 334.783\n",
            "Coste Omp        : nro procesadores*Tiempo             : 2 * 167.392 = 334.783\n",
            "Funcion Overhead : Coste Omp - tiempo Secuencial       : 334.783 - 334.783 = 0\n",
            "Tiempo Total:  1017.484 [ms]\n"
          ],
          "name": "stdout"
        }
      ]
    },
    {
      "cell_type": "markdown",
      "metadata": {
        "id": "jjeQ2NUny9tP"
      },
      "source": [
        "#4 Tabla de pasos\n",
        "Solo aplica a la comparacion entre Serie - Paralelo con OpenMP\n",
        "\n",
        "\n",
        " Procesador | Función | Detalle\n",
        "------------|---------|----------\n",
        "CPU      |  #includes | Librerias necsarias para el desarrollo del ejercicion en C++.\n",
        "CPU      |  #define     | Definicion de macros utilizadas en el proceso..\n",
        "CPU      |main()       | \tFuncion principal.\n",
        "CPU      |  TIEMPO_INI  | Toma el tiempo inicial para la ejecucion en serie..\n",
        "CPU      |  argc != 3        | Validacion de parametro.\n",
        "CPU      |  std::vector|Definición de vector \n",
        "CPU      |  for(...)        | Cálculo de la fuerza de gravitatoria\n",
        "CPU      |  TIEMPO_FIN               | Captura el tiempo final para la ejecución en serie.\n",
        "CPU      | TIEMPO_INI                | Toma el tiempo inicial para la ejecución en paralelo.\n",
        "CPU      | #pragma | Defino el sector que se va a ejecutar en paralelo, indicando que variables van a ser compartidas por los distintos hilos de ejecucion\n",
        "CPU | for(...) | Ejecución de cálculo de fuerza gravitatoria.\n",
        "CPU | TIEMPO_FIN | Toma el tiempo final para la ejecución en paralelo\n",
        "CPU | std:: | Muestro las estadísticas\n",
        "CPU | open(...) | Apertura del archivo C++.\n",
        "CPU | write(...) | Escritura del archivo C++.\n",
        "CPU | close (...) | Cierre del archivo C++.\n",
        "CPU | !g++ | Compilación del código.\n",
        "CPU | %env | Definición de cantidad hijos a ejecutar en paralelo.\n",
        "CPU | !./fg 10000000 50 | Ejecución del código, pasando por parámetro la cantidad de cuerpos y la cantidad de ciclos \n"
      ]
    },
    {
      "cell_type": "markdown",
      "metadata": {
        "id": "J13o89MdzAAI"
      },
      "source": [
        "#5 Conclusión\n",
        "\n",
        "Mediante la realización de ejercicio, pude comprender el funcionamiento con hilos en ejecución a traves de OpenMP.\n",
        "\n",
        "Podemos observar que los tiempos para calcular la fuerza gravitatoria de manera  secuencial son mayores que al calcular la misma en paralelo (OpenMP).\n",
        "\n",
        "*Tiempo Acel sec : 828.774 [ms] <br>\n",
        "Tiempo Acel Omp : 763.55 [ms] <br>\n",
        "Tiempo Total:     1729.769 [ms]*\n",
        "\n",
        "\n",
        "En los casos cuando la cantidad de elementos para calcularle al fuerza gravitatoria es pequeño, la ejecución en serie obtiene mejores resultados debido a que se agrega un tiempo extra en comenzar a ejecutar las operaciones en paralelo. En cambio, cuando la cantidad de elementos es elevada, en paralelo se ejecuta mas rapido, gracias a que cada hilo resuelve parte del problema y todo se ejecuta en fomra simultanea.\n",
        "\n",
        "El punto más relevante en este ejercicio es demostrar el funcionamiento y utilizacion de OpenMP para la ejecución en paralelo. La sentencia #pragma omp parallel for, nos indica que la parte de código que la comprende puede ser ejecutada por varios hilos. Se crea una tarea implícita para cada hilo perteneciente al equipo de hilos creado por el parallel.(Por defecto, openmp sabe que vamos a iterar por el valor i).  \n",
        "\n",
        "En cuanto a lecciones aprendidas, comprendí el funcionamiento de OpenMP, como así también realizar gráficos a partir de los datos obtenidos. <br>\n"
      ]
    },
    {
      "cell_type": "markdown",
      "metadata": {
        "id": "9M73j4RMzFhe"
      },
      "source": [
        "#6 Bibliografía\n",
        "\n",
        "[1] Fuerza gravitatoria: [Referencia](https://www.fisicalab.com/apartado/fuerza-gravitatoria#:~:text=Esta%20ley%20establece%20que%20los,por%20qu%C3%A9%20orbitan%20los%20planetas.)\n",
        "\n",
        "[2] Introducción a Python: [Página Colab](https://github.com/wvaliente/SOA_HPC/blob/main/Documentos/Python_Basico.ipynb) \n",
        "\n",
        "[3] Numpy: [Referencia](https://numpy.org/doc/1.16/reference/routines.random.html)\n",
        "\n",
        "[4] Sliders Parametros: [Referencia](https://colab.research.google.com/notebooks/forms.ipynb)\n",
        "\n",
        "[5] openMP: [Enlace](https://es.wikipedia.org/wiki/OpenMP)\n",
        "\n",
        "[6] Subplots: [Enlace](https://www.interactivechaos.com/manual/tutorial-de-matplotlib/la-funcion-subplots)\n",
        "\n",
        "[7] Graficos: [Enlace](https://colab.research.google.com/github/ElDwarf/DS_and_ML_Docs/blob/master/notebooks/01_Data_analysis/03_instroduction_matplotlib.ipynb#scrollTo=lzpQvfhd5jPd)"
      ]
    }
  ]
}