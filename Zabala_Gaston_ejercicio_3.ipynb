{
  "nbformat": 4,
  "nbformat_minor": 0,
  "metadata": {
    "colab": {
      "name": "Zabala_Gaston_ejercicio_3.ipynb",
      "provenance": [],
      "authorship_tag": "ABX9TyP4jQIvFU9BG/Qy6mI/XGlX",
      "include_colab_link": true
    },
    "kernelspec": {
      "name": "python3",
      "display_name": "Python 3"
    }
  },
  "cells": [
    {
      "cell_type": "markdown",
      "metadata": {
        "id": "view-in-github",
        "colab_type": "text"
      },
      "source": [
        "<a href=\"https://colab.research.google.com/github/ZabalaGaston/HPC/blob/main/Zabala_Gaston_ejercicio_3.ipynb\" target=\"_parent\"><img src=\"https://colab.research.google.com/assets/colab-badge.svg\" alt=\"Open In Colab\"/></a>"
      ]
    },
    {
      "cell_type": "markdown",
      "metadata": {
        "id": "slGRvo9aOCMd"
      },
      "source": [
        "**Pendiente:**\n",
        "* calcular el promedio en C\n",
        "* Obtener números aleatorios para cargar el vector\n"
      ]
    },
    {
      "cell_type": "markdown",
      "metadata": {
        "id": "dbIPN-utyjCe"
      },
      "source": [
        "#1 Introducción\n",
        "\n",
        "La aceleración es la tasa de variación de la velocidad de un objeto cuando se mueve. Si el objeto en cuestión mantiene su velocidad de forma constante, entonces no está acelerando, algo que sí hará cuando su velocidad cambia. La aceleración se mide en metros por segundo al cuadrado, y lo hace en base al tiempo que le lleva pasar de una velocidad a otra, o bien en una fuerza que se aplica sobre el objeto. [1]\n",
        "\n",
        "Se puede calcular la aceleración de un cuerpo mediante la siguiente fórmula:\n",
        "\n",
        "## <center>$\\frac{vf-vi}{tf-ti} = {a}$\n",
        "\n",
        "A continuación, calcularemos la aceleración de varios cuerpos utilizando OpenMP [5]."
      ]
    },
    {
      "cell_type": "markdown",
      "metadata": {
        "id": "bqsIfTYvaUns"
      },
      "source": [
        "#2 Armado del ambiente"
      ]
    },
    {
      "cell_type": "markdown",
      "metadata": {
        "id": "-7Tgw7HdyntX"
      },
      "source": [
        "\n",
        "\n",
        "##2.1  Generar code_acel.cpp\n",
        "\n",
        "Mediante código Python, genero una cadena de texto con código C. Luego, gurdo la cadena en el archivo code_acel.cpp"
      ]
    },
    {
      "cell_type": "code",
      "metadata": {
        "id": "1nBwkeo23jku"
      },
      "source": [
        "code = \"\"\"\n",
        "\n",
        "#include <iostream>\n",
        "#include <vector>\n",
        "#include <cstdlib>\n",
        "#include  <sys/time.h>\n",
        "#include <omp.h> //Cabecera OpenMP\n",
        "\n",
        "\n",
        "//------------------------------------------------\n",
        "// Macros para medir el tiempo\n",
        "\n",
        "static double dHashTiempoHistory[3];\n",
        "static struct timeval tv;\n",
        "\n",
        "#define TIEMPO_INI( h )      \\\n",
        "  gettimeofday(&tv, NULL);    \\\n",
        "  dHashTiempoHistory[ h ] = tv.tv_sec + tv.tv_usec/1000000.0;\n",
        "  \n",
        "#define TIEMPO_FIN( h )      \\\n",
        "  gettimeofday(&tv, NULL);    \\\n",
        "  dHashTiempoHistory[ h ] = ((tv.tv_sec + tv.tv_usec/1000000.0) - dHashTiempoHistory[ h ]) * 1000; //\n",
        "\n",
        "#define TIEMPO_GET( h ) dHashTiempoHistory[ h ]\n",
        "\n",
        "#define HTH_TOTAL     1\n",
        "#define HTH_ACEL_SEC  2\n",
        "#define HTH_ACEL_OMP  3\n",
        "\n",
        "//---------------------------------------------------------\n",
        "\n",
        "int main(int argc, char*argv[])\n",
        "{\n",
        "  int i,c;\n",
        "  TIEMPO_INI ( HTH_TOTAL )\n",
        "\n",
        "  //Leo los parametros.\n",
        "  if (argc != 4 )\n",
        "  {\n",
        "    std::cerr<<\"Error al ingresar los parámetros\" <<std::endl;\n",
        "    exit( - 1 );\n",
        "   }\n",
        "\n",
        "   int time       =  atoi( argv[1] );\n",
        "   int cantidad_N =  atoi( argv[2] );\n",
        "   int ciclos     =  atoi( argv[3] );\n",
        "\n",
        "   //-----------------------------------------------------\n",
        "   // Defino la memoria de los vectores para la velocidad inicial y final\n",
        "\n",
        "   std:: vector<double>   VI ( cantidad_N );\n",
        "   std:: vector<double>   VF ( cantidad_N );\n",
        "   std:: vector<double>   AC ( cantidad_N );\n",
        "\n",
        "   for (int i = 0; i < cantidad_N; i++)\n",
        "   {\n",
        "      VI[i] = 44*0.1; //obtener función en c para calcular numeros aleatorios\n",
        "      VF[i] = 99*0.1; //\n",
        "   }\n",
        "\n",
        "  //------------------------------------------\n",
        "  // Realizo el cálculo de la aceleración en forma secuencial\n",
        "\n",
        "  TIEMPO_INI ( HTH_ACEL_SEC )\n",
        "\n",
        "  for(c=0; c<ciclos; c++)\n",
        "  {\n",
        "    for(i=0; i< cantidad_N; i++)\n",
        "    {\n",
        "      AC[i] = (VF[i] - VI[i]) / time;\n",
        "    }\n",
        "  }\n",
        "\n",
        "  TIEMPO_FIN ( HTH_ACEL_SEC )\n",
        "\n",
        "  // ---------------------------------------------\n",
        "  // Realizo el cálculo de la aceleración con OpenMP\n",
        "\n",
        "  TIEMPO_INI ( HTH_ACEL_OMP )\n",
        "\n",
        "  for(c=0; c<ciclos; c++)\n",
        "  {\n",
        "    #pragma omp parallel for\n",
        "    for(i=0; i< cantidad_N; i++)\n",
        "    {\n",
        "      AC[i] = (VF[i] - VI[i]) / time;\n",
        "    }\n",
        "  }\n",
        "\n",
        "  TIEMPO_FIN ( HTH_ACEL_OMP )\n",
        "\n",
        "  //------------------------------------------------\n",
        "\n",
        "  std::cout<<\"Valores Reales  : \" <<std::endl;\n",
        "  std::cout<<\"Tiempo total    : \" <<TIEMPO_GET( HTH_TOTAL )<<  \" [ms]\"<<std::endl;\n",
        "  std::cout<<\"Tiempo Acel sec : \" <<TIEMPO_GET( HTH_ACEL_SEC)<< \" [ms]\"<<std::endl;\n",
        "  std::cout<<\"Tiempo Acel Omp : \" <<TIEMPO_GET( HTH_ACEL_OMP)<< \" [ms]\"<<std::endl;\n",
        "  std::cout<<std::endl;  \n",
        "}\n",
        "\"\"\"\n",
        "\n",
        "text_file = open(\"code_acel.cpp\",\"w\")\n",
        "text_file.write(code)\n",
        "text_file.close()\n",
        "\n"
      ],
      "execution_count": null,
      "outputs": []
    },
    {
      "cell_type": "markdown",
      "metadata": {
        "id": "AgfVNCHAA1tQ"
      },
      "source": [
        "##2.2 Compilación de código C (cálculo de aceleración)"
      ]
    },
    {
      "cell_type": "code",
      "metadata": {
        "id": "0HY_7zmcAo3R"
      },
      "source": [
        "!g++ -o acel -fopenmp code_acel.cpp"
      ],
      "execution_count": null,
      "outputs": []
    },
    {
      "cell_type": "markdown",
      "metadata": {
        "id": "6ikvs4vJy3eA"
      },
      "source": [
        "#3 Desarrollo"
      ]
    },
    {
      "cell_type": "code",
      "metadata": {
        "colab": {
          "base_uri": "https://localhost:8080/"
        },
        "id": "GaBLHSu1FcGX",
        "outputId": "15415fc8-a5ee-4e08-aad3-97668910cff0"
      },
      "source": [
        "%env OMP_NUM_THREADS=2\n",
        "\n",
        "# --------------------------------------------\n",
        "#@title 3.1 Parámetros de ejecución { vertical-output: true }\n",
        "\n",
        "cantidadVehiculos =   2#@param {type: \"integer\", min:0}\n",
        "tiempoSegundos    =   5  #@param {type:\"slider\", min:0, max:100, step:1}\n",
        "ciclos            =   50  #@param {type:\"slider\", min:50, max:99, step:1}\n",
        "# --------------------------------------------\n",
        "try:\n",
        "  if cantidadVehiculos < 0:\n",
        "    raise ValueError(\"La cantidad de vehículos debe ser mayor a 0\");\n",
        "\n",
        "  if tiempoSegundos == 0:\n",
        "    raise ValueError(\"El tiempo debe ser mayor a cero\");\n",
        "\n",
        "#---- Ejecución\n",
        "\n",
        "  !./acel tiempoSegundos cantidadVehiculos ciclos\n",
        "\n",
        "#----\n",
        "\n",
        "except ValueError as valerr:\n",
        "  print (valerr)\n",
        "except Exception as e:\n",
        "  print(\"Error:\",e.args)"
      ],
      "execution_count": null,
      "outputs": [
        {
          "output_type": "stream",
          "text": [
            "env: OMP_NUM_THREADS=2\n",
            "Valores Reales  : \n",
            "Tiempo total    : 1.60593e+09 [ms]\n",
            "Tiempo Acel sec : 0 [ms]\n",
            "Tiempo Acel Omp : 0 [ms]\n",
            "\n"
          ],
          "name": "stdout"
        }
      ]
    },
    {
      "cell_type": "markdown",
      "metadata": {
        "id": "jjeQ2NUny9tP"
      },
      "source": [
        "#4 Tabla de pasos"
      ]
    },
    {
      "cell_type": "markdown",
      "metadata": {
        "id": "J13o89MdzAAI"
      },
      "source": [
        "#5 Conclusiones\n",
        "\n",
        "Crea una seccion paralela y le ponemos la directiva for indicando que es un ciclo for, entonces para cada valor de i, va estar creando un hilo que resuelve una parte del algoritmo\n",
        "\n",
        "Va a ir tomando tantos valores como el tamaño del vector.\n",
        "\n",
        "Por defecto, openmp sabe que vamos a iterar por el valor i, porque es el valor que se toma para iterar.\n",
        "\n",
        "Se crean la cantidad de hilos que le decimos, y mientras dure o haya valores para procesar, los hilos van a seguir vivos."
      ]
    },
    {
      "cell_type": "markdown",
      "metadata": {
        "id": "9M73j4RMzFhe"
      },
      "source": [
        "#6 Bibliografía\n",
        "\n",
        "[1] Aceleracion: [Referencia](https://www.fisicalab.com/apartado/aceleracion)\n",
        "\n",
        "[2] Introducción a Python: [Página Colab](https://github.com/wvaliente/SOA_HPC/blob/main/Documentos/Python_Basico.ipynb) \n",
        "\n",
        "[3] Numpy: [Referencia](https://numpy.org/doc/1.16/reference/routines.random.html)\n",
        "\n",
        "[4] Sliders Parametros: [Referencia](https://colab.research.google.com/notebooks/forms.ipynb)\n",
        "\n",
        "[5] openMP: [Enlace](https://es.wikipedia.org/wiki/OpenMP)"
      ]
    }
  ]
}