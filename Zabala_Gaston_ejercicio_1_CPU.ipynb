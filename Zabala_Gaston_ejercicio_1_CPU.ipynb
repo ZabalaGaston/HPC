{
  "nbformat": 4,
  "nbformat_minor": 0,
  "metadata": {
    "colab": {
      "name": "Zabala_Gaston_ejercicio_1_CPU.ipynb",
      "provenance": [],
      "collapsed_sections": [],
      "authorship_tag": "ABX9TyM7AYhLnEnise49BcO2+WHz",
      "include_colab_link": true
    },
    "kernelspec": {
      "name": "python3",
      "display_name": "Python 3"
    }
  },
  "cells": [
    {
      "cell_type": "markdown",
      "metadata": {
        "id": "view-in-github",
        "colab_type": "text"
      },
      "source": [
        "<a href=\"https://colab.research.google.com/github/ZabalaGaston/HPC/blob/main/Zabala_Gaston_ejercicio_1_CPU.ipynb\" target=\"_parent\"><img src=\"https://colab.research.google.com/assets/colab-badge.svg\" alt=\"Open In Colab\"/></a>"
      ]
    },
    {
      "cell_type": "markdown",
      "metadata": {
        "id": "OCxxThjd3vIS"
      },
      "source": [
        "# 1 Introducción\n",
        "\n",
        "La aceleración es la tasa de variación de la velocidad de un objeto cuando se mueve. Si el objeto en cuestión mantiene su velocidad de forma constante, entonces no está acelerando, algo que sí hará cuando su velocidad cambia. La aceleración se mide en metros por segundo al cuadrado, y lo hace en base al tiempo que le lleva pasar de una velocidad a otra, o bien en una fuerza que se aplica sobre el objeto. [1]\n",
        "\n",
        "Se puede calcular la aceleración de un cuerpo mediante la siguiente fórmula:\n",
        "\n",
        "## <center>$\\frac{vf-vi}{tf-ti} = {a}$\n",
        "\n",
        "El objetivo de este cuaderno es aprender las funciones basicas de Python[2] la plataforma Colab [5] y la programación secuencial.\n"
      ]
    },
    {
      "cell_type": "markdown",
      "metadata": {
        "id": "_IztkhBv33MW"
      },
      "source": [
        "# 2 Armado del ambiente\n",
        "\n",
        "No son necesarios, ejecuciones previas del armado del ambiente."
      ]
    },
    {
      "cell_type": "markdown",
      "metadata": {
        "id": "8Fr_iI_834W1"
      },
      "source": [
        "# 3 Desarrollo"
      ]
    },
    {
      "cell_type": "code",
      "metadata": {
        "id": "bGYoI3av9A2u",
        "colab": {
          "base_uri": "https://localhost:8080/"
        },
        "outputId": "90f26b6d-c7ee-42cf-85d4-03cf6e584bd5"
      },
      "source": [
        "# --------------------------------------------\n",
        "#@title 3.1 Parámetros de ejecución { vertical-output: true }\n",
        "\n",
        "cantidadVehiculos =   1000#@param {type:\"slider\", min:1000, max:10000000, step:100}\n",
        "tiempoSegundos =    10#@param {type: \"integer\", min:0}\n",
        "\n",
        "# --------------------------------------------\n",
        "from datetime import datetime\n",
        "tiempo_total = datetime.now()\n",
        "import numpy\n",
        "\n",
        "# --------------------------------------------\n",
        "# Definición de función que transforma el tiempo en  milisegundos \n",
        "tiempo_en_ms = lambda dt:(dt.days * 24 * 60 * 60 + dt.seconds) * 1000 + dt.microseconds / 1000.0\n",
        "\n",
        "#Defino variables\n",
        "# Defino una variable en donde voy a tener todas las aceleraciones\n",
        "acelTotal = 0\n",
        "vMax = 120\n",
        "\n",
        "# --------------------------------------------\n",
        "# CPU - Defino la memoria de los vectores en cpu.\n",
        "\n",
        "try:\n",
        "  if tiempoSegundos <= 0:\n",
        "    raise ValueError(\"El tiempo debe ser mayor a cero\");\n",
        "\n",
        "  vi_cpu = numpy.random.randint(1,vMax, size=cantidadVehiculos)\n",
        "  vi_cpu = vi_cpu.astype( numpy.float32() )\n",
        "\n",
        "  vf_cpu = numpy.random.randint(1,vMax, size=cantidadVehiculos)\n",
        "  vf_cpu = vf_cpu.astype( numpy.float32() )\n",
        "  \n",
        "  # --------------------------------------------\n",
        "  # CPU - Realizo la función para calcular la aceleración.\n",
        "\n",
        "  tiempo_bucle = datetime.now()\n",
        "\n",
        "  for idx in range( 0, cantidadVehiculos ):\n",
        "    vf_cpu[idx] = (vf_cpu[idx] - vi_cpu[idx])/tiempoSegundos\n",
        "\n",
        "  acelPromedio = numpy.mean(vf_cpu) \n",
        "  tiempo_bucle = datetime.now() - tiempo_bucle\n",
        "# --------------------------------------------\n",
        "\n",
        "  tiempo_total = datetime.now() - tiempo_total\n",
        "\n",
        "  print(\"Tiempo Total: \", tiempo_en_ms( tiempo_total ), \"[ms]\" )\n",
        "  print(\"Tiempo bucle: \", tiempo_en_ms( tiempo_bucle ), \"[ms]\" )\n",
        "  print(\"Aceleración promedio: \", acelPromedio, \"[m/s2]\" )\n",
        "  \n",
        "except ValueError as valerr:\n",
        "  print (valerr)\n",
        "except Exception as e: \n",
        "  print(\"Error:\",e.args)"
      ],
      "execution_count": 22,
      "outputs": [
        {
          "output_type": "stream",
          "text": [
            "Tiempo Total:  0.481 [ms]\n",
            "Tiempo bucle:  0.099 [ms]\n",
            "Aceleración promedio:  -2.9 [m/s2]\n"
          ],
          "name": "stdout"
        }
      ]
    },
    {
      "cell_type": "markdown",
      "metadata": {
        "id": "2Z_WSXAi38EG"
      },
      "source": [
        "# 4 Tabla de pasos\n",
        "\n",
        " Procesador | Función | Detalle\n",
        "------------|---------|----------\n",
        "CPU      |  @param cantidadVehiculos               | Lectura del tamaño de vectores desde Colab.\n",
        "CPU      |  @param tiempoSegundos               | Lectura del tiempo para calcular el promedio.\n",
        "CPU      |Valida parámetros       | Valida los valores ingresados.\n",
        "CPU      |  import                | Importa los módulos para funcionar.\n",
        "CPU      |  datetime.now()        | Toma el tiempo actual.\n",
        "CPU      |  numpy.random.randint() | Inicializa los vectores vf_cpu,vi_cpu.\n",
        "CPU      |  for...                | Realiza el cálculo de la aceleración, guardando los valores en acelTotal\n",
        "CPU      | numpy.mean(vf_cpu)     | Realiza el cálculo del promedio, guardando el valor en acelPromedio \n",
        "CPU      |  datetime.now()        | Calculo el tiempo final.\n",
        "CPU      |  print()               | Informa los resultados."
      ]
    },
    {
      "cell_type": "markdown",
      "metadata": {
        "id": "2Ru0jYJu4JJn"
      },
      "source": [
        "#5 Conclusiones\n",
        "\n",
        "Realicé la ejecución del cuaderno diez veces para el cálculo de una aceleración promedio para 10000000 vehículos en 10 segundos. Obteniendo como resultado los siguientes valores:\n",
        "\n",
        "Tiempo Total:  31887.001 [ms] | Tiempo bucle:  31716.608 [ms] <br>\n",
        "Tiempo Total:  31638.746 [ms] | Tiempo bucle:  31484.333 [ms] <br>\n",
        "Tiempo Total:  31319.396 [ms] | Tiempo bucle:  31171.384 [ms] <br>\n",
        "Tiempo Total:  32293.927 [ms] | Tiempo bucle:  32118.706 [ms] <br>\n",
        "Tiempo Total:  31891.204 [ms] | Tiempo bucle:  31739.798 [ms] <br>\n",
        "Tiempo Total:  31170.750 [ms] | Tiempo bucle:  31013.558 [ms] <br>\n",
        "Tiempo Total:  31879.074 [ms] | Tiempo bucle:  31718.380 [ms] <br>\n",
        "Tiempo Total:  31242.351 [ms] | Tiempo bucle:  31085.342 [ms] <br>\n",
        "Tiempo Total:  31609.901 [ms] | Tiempo bucle:  31446.171 [ms] <br>\n",
        "Tiempo Total:  30988.866 [ms] | Tiempo bucle:  30827.657 [ms] <br>\n",
        "\n",
        "Podemos observar, que el tiempo de ejecución promedio del programa **[31591.601ms]** es mucho mayor al obtenido utilizando GPU **[269,1 ms ms]**, esto se debe a que el cálculo de la aceleración se calcula de a un cuerpo a la vez.\n",
        "\n",
        "Como mejora, se podrían agregar gráficos ilustrativos de los resultados obtenidos.\n",
        "\n"
      ]
    },
    {
      "cell_type": "markdown",
      "metadata": {
        "id": "dFp7XK_j4LRG"
      },
      "source": [
        "#6 Bibliografía\n",
        "\n",
        "[1] Aceleracion: [Referencia](https://www.fisicalab.com/apartado/aceleracion)\n",
        "\n",
        "[2] Introducción a Python: [Página Colab](https://github.com/wvaliente/SOA_HPC/blob/main/Documentos/Python_Basico.ipynb) \n",
        "\n",
        "[3] Numpy: [Referencia](https://numpy.org/doc/1.16/reference/routines.random.html)\n",
        "\n",
        "[4] Sliders Parametros: [Referencia](https://colab.research.google.com/notebooks/forms.ipynb)\n",
        "\n",
        "[5] Tutorial Point Colab: [Referencia](https://github.com/wvaliente/SOA_HPC/blob/main/Documentos/markdown-cheatsheet-online.pdf)"
      ]
    }
  ]
}