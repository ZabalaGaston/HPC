{
  "nbformat": 4,
  "nbformat_minor": 0,
  "metadata": {
    "colab": {
      "name": "Zabala_Gaston_ejercicio_1_CPU.ipynb",
      "provenance": [],
      "collapsed_sections": [],
      "authorship_tag": "ABX9TyMo2QQZEzL4ip04+0JD04Zs",
      "include_colab_link": true
    },
    "kernelspec": {
      "name": "python3",
      "display_name": "Python 3"
    }
  },
  "cells": [
    {
      "cell_type": "markdown",
      "metadata": {
        "id": "view-in-github",
        "colab_type": "text"
      },
      "source": [
        "<a href=\"https://colab.research.google.com/github/ZabalaGaston/HPC/blob/main/Zabala_Gaston_ejercicio_1_CPU.ipynb\" target=\"_parent\"><img src=\"https://colab.research.google.com/assets/colab-badge.svg\" alt=\"Open In Colab\"/></a>"
      ]
    },
    {
      "cell_type": "markdown",
      "metadata": {
        "id": "OCxxThjd3vIS"
      },
      "source": [
        "# 1 Introducción\n",
        "\n",
        "La aceleración es la tasa de variación de la velocidad de un objeto cuando se mueve. Si el objeto en cuestión mantiene su velocidad de forma constante, entonces no está acelerando, algo que sí hará cuando su velocidad cambia. La aceleración se mide en metros por segundo al cuadrado, y lo hace en base al tiempo que le lleva pasar de una velocidad a otra, o bien en una fuerza que se aplica sobre el objeto. [1]\n",
        "\n",
        "Se puede calcular la aceleración de un cuerpo mediante la siguiente fórmula:\n",
        "\n",
        "## <center>$\\frac{vf-vi}{tf-ti} = {a}$\n",
        "\n"
      ]
    },
    {
      "cell_type": "markdown",
      "metadata": {
        "id": "_IztkhBv33MW"
      },
      "source": [
        "# 2 Armado del ambiente\n",
        "\n",
        "No son necesarios, ejecuciones previas del armado del ambiente."
      ]
    },
    {
      "cell_type": "markdown",
      "metadata": {
        "id": "8Fr_iI_834W1"
      },
      "source": [
        "# 3 Desarrollo"
      ]
    },
    {
      "cell_type": "code",
      "metadata": {
        "id": "bGYoI3av9A2u",
        "colab": {
          "base_uri": "https://localhost:8080/"
        },
        "outputId": "0865b607-ee78-40dc-c2eb-5f90b5e640fa"
      },
      "source": [
        "# --------------------------------------------\n",
        "#@title 3.1 Parámetros de ejecución { vertical-output: true }\n",
        "\n",
        "cantidadVehiculos =   1000#@param {type: \"integer\", min:0}\n",
        "tiempoSegundos =   29 #@param {type:\"slider\", min:0, max:100, step:1}\n",
        "\n",
        "# --------------------------------------------\n",
        "from datetime import datetime\n",
        "tiempo_total = datetime.now()\n",
        "import numpy\n",
        "\n",
        "# --------------------------------------------\n",
        "# Definición de función que transforma el tiempo en  milisegundos \n",
        "tiempo_en_ms = lambda dt:(dt.days * 24 * 60 * 60 + dt.seconds) * 1000 + dt.microseconds / 1000.0\n",
        "\n",
        "#Defino variables\n",
        "# Defino una variable en donde voy a tener todas las aceleraciones\n",
        "acelTotal = 0\n",
        "vMax = 120\n",
        "\n",
        "# --------------------------------------------\n",
        "# CPU - Defino la memoria de los vectores en cpu.\n",
        "\n",
        "try:\n",
        "  if cantidadVehiculos < 0:\n",
        "    raise ValueError(\"La cantidad de vehículos debe ser mayor a 0\");\n",
        "\n",
        "  if tiempoSegundos == 0:\n",
        "    raise ValueError(\"El tiempo debe ser mayor a cero\");\n",
        "\n",
        "  vi_cpu = numpy.random.randint(vMax, size=cantidadVehiculos)\n",
        "  vi_cpu = vi_cpu.astype( numpy.float32() )\n",
        "\n",
        "  vf_cpu = numpy.random.randint(vMax, size=cantidadVehiculos)\n",
        "  vf_cpu = vf_cpu.astype( numpy.float32() )\n",
        "\n",
        "  # --------------------------------------------\n",
        "  # CPU - Realizo la función para calcular la aceleración.\n",
        "\n",
        "  tiempo_bucle = datetime.now()\n",
        "\n",
        "  for idx in range( 0, cantidadVehiculos ):\n",
        "    vf_cpu[idx] = (vf_cpu[idx] - vi_cpu[idx])/tiempoSegundos\n",
        "\n",
        "  acelPromedio = numpy.mean(vf_cpu) \n",
        "  tiempo_bucle = datetime.now() - tiempo_bucle\n",
        "# --------------------------------------------\n",
        "\n",
        "  tiempo_total = datetime.now() - tiempo_total\n",
        "\n",
        "  print(\"Tiempo Total: \", tiempo_en_ms( tiempo_total ), \"[ms]\" )\n",
        "  print(\"Tiempo bucle: \", tiempo_en_ms( tiempo_bucle ), \"[ms]\" )\n",
        "  print(\"Aceleración promedio: \", acelPromedio, \"[m/s2]\" )\n",
        "  \n",
        "except ValueError as valerr:\n",
        "  print (valerr)\n",
        "except Exception as e: \n",
        "  print(\"Error:\",e.args)"
      ],
      "execution_count": null,
      "outputs": [
        {
          "output_type": "stream",
          "text": [
            "Tiempo Total:  3.696 [ms]\n",
            "Tiempo bucle:  3.239 [ms]\n",
            "Aceleración promedio:  -201.42172 [m/s2]\n"
          ],
          "name": "stdout"
        }
      ]
    },
    {
      "cell_type": "markdown",
      "metadata": {
        "id": "2Z_WSXAi38EG"
      },
      "source": [
        "# 4 Tabla de pasos\n",
        "\n",
        " Procesador | Función | Detalle\n",
        "------------|---------|----------\n",
        "CPU      |  @param                | Lectura del tamaño de vectores desde Colab.\n",
        "CPU      |  @param                | Lectura del tiempo para calcular el promedio.\n",
        "CPU      |Valida parámetros       | Valida los valores ingresados.\n",
        "CPU      |  import                | Importa los módulos para funcionar.\n",
        "CPU      |  datetime.now()        | Toma el tiempo actual.\n",
        "CPU      |  numpy.random.randn( CantidadVehiculos ) | Inicializa los vectores vf_cpu,vi_cpu.\n",
        "CPU      |  for...                | Realiza el cálculo de la aceleración, guardando los valores en acelTotal\n",
        "CPU      | numpy.mean(vf_cpu)     | Realiza el cálculo del promedio, guardando el valor en acelPromedio \n",
        "CPU      |  datetime.now()        | Toma el tiempo final.\n",
        "CPU      |  print()               | Informa los resultados."
      ]
    },
    {
      "cell_type": "markdown",
      "metadata": {
        "id": "2Ru0jYJu4JJn"
      },
      "source": [
        "#5 Conclusiones\n",
        "Realicé la ejecución del cuaderno diez veces para el cálculo de una aceleración promedio para 1000 vehículos en 30 segundos. Obteniendo como resultado los siguientes valores:\n",
        "\n",
        "Tiempo Total:  6.919 [ms] | Tiempo bucle:  5.907 [ms] <br>\n",
        "Tiempo Total:  3.568 [ms] | Tiempo bucle:  3.051 [ms] <br>\n",
        "Tiempo Total:  3.460 [ms] | Tiempo bucle:  2.951 [ms] <br>\n",
        "Tiempo Total:  3.460 [ms] | Tiempo bucle:  2.951 [ms] <br>\n",
        "Tiempo Total:  3.395 [ms] | Tiempo bucle:  2.983 [ms] <br>\n",
        "Tiempo Total:  3.699 [ms] | Tiempo bucle:  3.173 [ms] <br>\n",
        "Tiempo Total:  4.218 [ms] | Tiempo bucle:  3.410 [ms] <br>\n",
        "Tiempo Total:  3.443 [ms] | Tiempo bucle:  3.038 [ms] <br>\n",
        "Tiempo Total:  6.244 [ms] | Tiempo bucle:  5.532 [ms] <br>\n",
        "Tiempo Total:  3.913 [ms] | Tiempo bucle:  3.334 [ms] <br>\n",
        "\n",
        "Podemos observar, que el tiempo de ejecución promedio del programa **[3.983 ms]** es mucho mayor al obtenido utilizando GPU **[2,253 ms]**, esto se debe a que el cálculo de la aceleración se calcula de a un cuerpo a la vez.\n",
        "\n"
      ]
    },
    {
      "cell_type": "markdown",
      "metadata": {
        "id": "dFp7XK_j4LRG"
      },
      "source": [
        "#6 Bibliografía\n",
        "\n",
        "[1] Aceleracion: [Referencia](https://www.fisicalab.com/apartado/aceleracion)\n",
        "\n",
        "[2] Introducción a Python: [Página Colab](https://github.com/wvaliente/SOA_HPC/blob/main/Documentos/Python_Basico.ipynb) \n",
        "\n",
        "[3] Numpy: [Referencia](https://numpy.org/doc/1.16/reference/routines.random.html)\n",
        "\n",
        "[4] Sliders Parametros: [Referencia](https://colab.research.google.com/notebooks/forms.ipynb)"
      ]
    }
  ]
}