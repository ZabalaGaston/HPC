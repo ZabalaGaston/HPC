{
  "nbformat": 4,
  "nbformat_minor": 0,
  "metadata": {
    "colab": {
      "name": "Zabala_Gaston_ejercicio_1_CPU.ipynb",
      "provenance": [],
      "collapsed_sections": [],
      "authorship_tag": "ABX9TyMCpSwXX+3l0UCq0mY9qMRD",
      "include_colab_link": true
    },
    "kernelspec": {
      "name": "python3",
      "display_name": "Python 3"
    }
  },
  "cells": [
    {
      "cell_type": "markdown",
      "metadata": {
        "id": "view-in-github",
        "colab_type": "text"
      },
      "source": [
        "<a href=\"https://colab.research.google.com/github/ZabalaGaston/HPC/blob/main/Zabala_Gaston_ejercicio_1_CPU.ipynb\" target=\"_parent\"><img src=\"https://colab.research.google.com/assets/colab-badge.svg\" alt=\"Open In Colab\"/></a>"
      ]
    },
    {
      "cell_type": "markdown",
      "metadata": {
        "id": "UUKloLLD4Wdu"
      },
      "source": [
        "#0 Enunciado\n",
        "Ejercicio 1: Se pide que en la versión del GPGPU, el kernel ejecute en hilos sobre una dimensión."
      ]
    },
    {
      "cell_type": "markdown",
      "metadata": {
        "id": "OCxxThjd3vIS"
      },
      "source": [
        "# 1 Introducción\n",
        "\n",
        "Según la mecánica newtoniana, una partícula no puede seguir una trayectoria curva a menos que sobre ella actúe una cierta aceleración como consecuencia de la acción de una fuerza, ya que si esta no existiese, su movimiento sería rectilíneo. Asimismo, una partícula en movimiento rectilíneo solo puede cambiar su velocidad bajo la acción de una aceleración en la misma dirección de su velocidad (dirigida en el mismo sentido si acelera; o en sentido contrario si desacelera). \n",
        "\n",
        "En mecánica clásica se define la aceleración como la variación de la velocidad respecto al tiempo (común a todos los observadores)\n",
        "\n",
        ">$\\frac{vf-vi}{tf-ti} = {a}$\n",
        "\n"
      ]
    },
    {
      "cell_type": "markdown",
      "metadata": {
        "id": "_IztkhBv33MW"
      },
      "source": [
        "# 2 Armado del ambiente\n",
        "\n",
        "No son necesarios, ejecuciones previas del armado del ambiente."
      ]
    },
    {
      "cell_type": "markdown",
      "metadata": {
        "id": "8Fr_iI_834W1"
      },
      "source": [
        "# 3 Desarrollo"
      ]
    },
    {
      "cell_type": "code",
      "metadata": {
        "id": "bGYoI3av9A2u",
        "outputId": "ec38f977-5762-4502-a919-1f6b5dc3a6b5",
        "colab": {
          "base_uri": "https://localhost:8080/"
        }
      },
      "source": [
        "# --------------------------------------------\n",
        "#@title 3.1 Parámetros de ejecución { vertical-output: true }\n",
        "\n",
        "cantidadVehiculos =   2#@param {type: \"integer\", min:0}\n",
        "tiempoSegundos =   0 #@param {type:\"slider\", min:0, max:100, step:1}\n",
        "\n",
        "# --------------------------------------------\n",
        "from datetime import datetime\n",
        "tiempo_total = datetime.now()\n",
        "import numpy\n",
        "\n",
        "# --------------------------------------------\n",
        "# Definición de función que transforma el tiempo en  milisegundos \n",
        "tiempo_en_ms = lambda dt:(dt.days * 24 * 60 * 60 + dt.seconds) * 1000 + dt.microseconds / 1000.0\n",
        "\n",
        "#Defino variables\n",
        "# Defino una variable en donde voy a tener todas las aceleraciones\n",
        "acelTotal = 0\n",
        "vMax = 180\n",
        "\n",
        "# --------------------------------------------\n",
        "# CPU - Defino la memoria de los vectores en cpu.\n",
        "\n",
        "try:\n",
        "  if cantidadVehiculos < 0:\n",
        "    raise ValueError(\"La cantidad de vehículos debe ser mayor a 0\");\n",
        "\n",
        "  if tiempoSegundos == 0:\n",
        "    raise ValueError(\"El tiempo debe ser mayor a cero\");\n",
        "\n",
        "  vi_cpu = numpy.random.randint(vMax, size=cantidadVehiculos)\n",
        "  vi_cpu = vi_cpu.astype( numpy.float32() )\n",
        "\n",
        "  vf_cpu = numpy.random.randint(vMax, size=cantidadVehiculos)\n",
        "  vf_cpu = vf_cpu.astype( numpy.float32() )\n",
        "\n",
        "  # --------------------------------------------\n",
        "  # CPU - Realizo la función para calcular la aceleración.\n",
        "\n",
        "  tiempo_bucle = datetime.now()\n",
        "\n",
        "  for idx in range( 0, cantidadVehiculos ):\n",
        "    vf_cpu[idx] = (vf_cpu[idx] - vi_cpu[idx])/tiempoSegundos\n",
        "\n",
        "  acelPromedio = numpy.mean(vf_cpu) \n",
        "  tiempo_bucle = datetime.now() - tiempo_bucle\n",
        "# --------------------------------------------\n",
        "\n",
        "  tiempo_total = datetime.now() - tiempo_total\n",
        "\n",
        "  print(\"Tiempo Total: \", tiempo_en_ms( tiempo_total ), \"[ms]\" )\n",
        "  print(\"Tiempo bucle: \", tiempo_en_ms( tiempo_bucle ), \"[ms]\" )\n",
        "  print(\"Aceleración promedio: \", acelPromedio, \"[m/s2]\" )\n",
        "  \n",
        "except ValueError as valerr:\n",
        "  print (valerr)\n",
        "except: \n",
        "  print(\"Hubo un error inesperado\")\n"
      ],
      "execution_count": 3,
      "outputs": [
        {
          "output_type": "stream",
          "text": [
            "El tiempo debe ser mayor a cero\n"
          ],
          "name": "stdout"
        }
      ]
    },
    {
      "cell_type": "markdown",
      "metadata": {
        "id": "2Z_WSXAi38EG"
      },
      "source": [
        "# 4 Tabla de pasos\n",
        "\n",
        " Procesador | Función | Detalle\n",
        "------------|---------|----------\n",
        "CPU      |  @param                | Lectura del tamaño de vectores desde Colab.\n",
        "CPU      |  @param                | Lectura del tiempo para calcular el promedio.\n",
        "CPU      |Valida parámetros       | Valida los valores ingresados.\n",
        "CPU      |  import                | Importa los módulos para funcionar.\n",
        "CPU      |  datetime.now()        | Toma el tiempo actual.\n",
        "CPU      |  numpy.random.randn( CantidadVehiculos ) | Inicializa los vectores vf_cpu,vi_cpu.\n",
        "CPU      |  for...                | Realiza el cálculo de la aceleración, guardando los valores en acelTotal\n",
        "CPU      | numpy.mean(vf_cpu)     | Realiza el cálculo del promedio, guardando el valor en acelPromedio \n",
        "CPU      |  datetime.now()        | Toma el tiempo final.\n",
        "CPU      |  print()               | Informa los resultados."
      ]
    },
    {
      "cell_type": "markdown",
      "metadata": {
        "id": "2Ru0jYJu4JJn"
      },
      "source": [
        "#5 Conclusiones"
      ]
    },
    {
      "cell_type": "markdown",
      "metadata": {
        "id": "dFp7XK_j4LRG"
      },
      "source": [
        "#6 Bibliografía\n",
        "\n",
        "[1] Aceleracion: [Referencia](https://www.fisicalab.com/apartado/aceleracion)\n",
        "\n",
        "[2] Introducción a Python: [Página Colab](https://github.com/wvaliente/SOA_HPC/blob/main/Documentos/Python_Basico.ipynb) \n",
        "\n",
        "[3] Numpy: [Referencia](https://numpy.org/doc/1.16/reference/routines.random.html)\n",
        "\n",
        "[4] Sliders Parametros: [Referencia](https://colab.research.google.com/notebooks/forms.ipynb)"
      ]
    },
    {
      "cell_type": "code",
      "metadata": {
        "id": "F7k0PCkqgR78",
        "outputId": "d9a8890b-e796-4c40-959f-47b5cf93cd37",
        "colab": {
          "base_uri": "https://localhost:8080/",
          "height": 343
        }
      },
      "source": [
        "import pandas as pd\n",
        "import numpy as np\n",
        "\n",
        "np.random.seed(24)\n",
        "df = pd.DataFrame({'A': np.linspace(1, 10, 10)})\n",
        "df = pd.concat([df, pd.DataFrame(np.random.randn(10, 4), columns=list('BCDE'))],\n",
        "               axis=1)\n",
        "df.iloc[0, 2] = np.nan\n",
        "df"
      ],
      "execution_count": null,
      "outputs": [
        {
          "output_type": "execute_result",
          "data": {
            "text/html": [
              "<div>\n",
              "<style scoped>\n",
              "    .dataframe tbody tr th:only-of-type {\n",
              "        vertical-align: middle;\n",
              "    }\n",
              "\n",
              "    .dataframe tbody tr th {\n",
              "        vertical-align: top;\n",
              "    }\n",
              "\n",
              "    .dataframe thead th {\n",
              "        text-align: right;\n",
              "    }\n",
              "</style>\n",
              "<table border=\"1\" class=\"dataframe\">\n",
              "  <thead>\n",
              "    <tr style=\"text-align: right;\">\n",
              "      <th></th>\n",
              "      <th>A</th>\n",
              "      <th>B</th>\n",
              "      <th>C</th>\n",
              "      <th>D</th>\n",
              "      <th>E</th>\n",
              "      <th>B</th>\n",
              "      <th>C</th>\n",
              "      <th>D</th>\n",
              "      <th>E</th>\n",
              "    </tr>\n",
              "  </thead>\n",
              "  <tbody>\n",
              "    <tr>\n",
              "      <th>0</th>\n",
              "      <td>1.0</td>\n",
              "      <td>1.329212</td>\n",
              "      <td>NaN</td>\n",
              "      <td>-0.316280</td>\n",
              "      <td>-0.990810</td>\n",
              "      <td>1.329212</td>\n",
              "      <td>-0.770033</td>\n",
              "      <td>-0.316280</td>\n",
              "      <td>-0.990810</td>\n",
              "    </tr>\n",
              "    <tr>\n",
              "      <th>1</th>\n",
              "      <td>2.0</td>\n",
              "      <td>-1.070816</td>\n",
              "      <td>-1.438713</td>\n",
              "      <td>0.564417</td>\n",
              "      <td>0.295722</td>\n",
              "      <td>-1.070816</td>\n",
              "      <td>-1.438713</td>\n",
              "      <td>0.564417</td>\n",
              "      <td>0.295722</td>\n",
              "    </tr>\n",
              "    <tr>\n",
              "      <th>2</th>\n",
              "      <td>3.0</td>\n",
              "      <td>-1.626404</td>\n",
              "      <td>0.219565</td>\n",
              "      <td>0.678805</td>\n",
              "      <td>1.889273</td>\n",
              "      <td>-1.626404</td>\n",
              "      <td>0.219565</td>\n",
              "      <td>0.678805</td>\n",
              "      <td>1.889273</td>\n",
              "    </tr>\n",
              "    <tr>\n",
              "      <th>3</th>\n",
              "      <td>4.0</td>\n",
              "      <td>0.961538</td>\n",
              "      <td>0.104011</td>\n",
              "      <td>-0.481165</td>\n",
              "      <td>0.850229</td>\n",
              "      <td>0.961538</td>\n",
              "      <td>0.104011</td>\n",
              "      <td>-0.481165</td>\n",
              "      <td>0.850229</td>\n",
              "    </tr>\n",
              "    <tr>\n",
              "      <th>4</th>\n",
              "      <td>5.0</td>\n",
              "      <td>1.453425</td>\n",
              "      <td>1.057737</td>\n",
              "      <td>0.165562</td>\n",
              "      <td>0.515018</td>\n",
              "      <td>1.453425</td>\n",
              "      <td>1.057737</td>\n",
              "      <td>0.165562</td>\n",
              "      <td>0.515018</td>\n",
              "    </tr>\n",
              "    <tr>\n",
              "      <th>5</th>\n",
              "      <td>6.0</td>\n",
              "      <td>-1.336936</td>\n",
              "      <td>0.562861</td>\n",
              "      <td>1.392855</td>\n",
              "      <td>-0.063328</td>\n",
              "      <td>-1.336936</td>\n",
              "      <td>0.562861</td>\n",
              "      <td>1.392855</td>\n",
              "      <td>-0.063328</td>\n",
              "    </tr>\n",
              "    <tr>\n",
              "      <th>6</th>\n",
              "      <td>7.0</td>\n",
              "      <td>0.121668</td>\n",
              "      <td>1.207603</td>\n",
              "      <td>-0.002040</td>\n",
              "      <td>1.627796</td>\n",
              "      <td>0.121668</td>\n",
              "      <td>1.207603</td>\n",
              "      <td>-0.002040</td>\n",
              "      <td>1.627796</td>\n",
              "    </tr>\n",
              "    <tr>\n",
              "      <th>7</th>\n",
              "      <td>8.0</td>\n",
              "      <td>0.354493</td>\n",
              "      <td>1.037528</td>\n",
              "      <td>-0.385684</td>\n",
              "      <td>0.519818</td>\n",
              "      <td>0.354493</td>\n",
              "      <td>1.037528</td>\n",
              "      <td>-0.385684</td>\n",
              "      <td>0.519818</td>\n",
              "    </tr>\n",
              "    <tr>\n",
              "      <th>8</th>\n",
              "      <td>9.0</td>\n",
              "      <td>1.686583</td>\n",
              "      <td>-1.325963</td>\n",
              "      <td>1.428984</td>\n",
              "      <td>-2.089354</td>\n",
              "      <td>1.686583</td>\n",
              "      <td>-1.325963</td>\n",
              "      <td>1.428984</td>\n",
              "      <td>-2.089354</td>\n",
              "    </tr>\n",
              "    <tr>\n",
              "      <th>9</th>\n",
              "      <td>10.0</td>\n",
              "      <td>-0.129820</td>\n",
              "      <td>0.631523</td>\n",
              "      <td>-0.586538</td>\n",
              "      <td>0.290720</td>\n",
              "      <td>-0.129820</td>\n",
              "      <td>0.631523</td>\n",
              "      <td>-0.586538</td>\n",
              "      <td>0.290720</td>\n",
              "    </tr>\n",
              "  </tbody>\n",
              "</table>\n",
              "</div>"
            ],
            "text/plain": [
              "      A         B         C         D  ...         B         C         D         E\n",
              "0   1.0  1.329212       NaN -0.316280  ...  1.329212 -0.770033 -0.316280 -0.990810\n",
              "1   2.0 -1.070816 -1.438713  0.564417  ... -1.070816 -1.438713  0.564417  0.295722\n",
              "2   3.0 -1.626404  0.219565  0.678805  ... -1.626404  0.219565  0.678805  1.889273\n",
              "3   4.0  0.961538  0.104011 -0.481165  ...  0.961538  0.104011 -0.481165  0.850229\n",
              "4   5.0  1.453425  1.057737  0.165562  ...  1.453425  1.057737  0.165562  0.515018\n",
              "5   6.0 -1.336936  0.562861  1.392855  ... -1.336936  0.562861  1.392855 -0.063328\n",
              "6   7.0  0.121668  1.207603 -0.002040  ...  0.121668  1.207603 -0.002040  1.627796\n",
              "7   8.0  0.354493  1.037528 -0.385684  ...  0.354493  1.037528 -0.385684  0.519818\n",
              "8   9.0  1.686583 -1.325963  1.428984  ...  1.686583 -1.325963  1.428984 -2.089354\n",
              "9  10.0 -0.129820  0.631523 -0.586538  ... -0.129820  0.631523 -0.586538  0.290720\n",
              "\n",
              "[10 rows x 9 columns]"
            ]
          },
          "metadata": {
            "tags": []
          },
          "execution_count": 9
        }
      ]
    }
  ]
}