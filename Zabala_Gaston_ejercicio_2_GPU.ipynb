{
  "nbformat": 4,
  "nbformat_minor": 0,
  "metadata": {
    "colab": {
      "name": "Zabala_Gaston_ejercicio_2_GPU.ipynb",
      "provenance": [],
      "collapsed_sections": [],
      "include_colab_link": true
    },
    "kernelspec": {
      "name": "python3",
      "display_name": "Python 3"
    },
    "accelerator": "GPU"
  },
  "cells": [
    {
      "cell_type": "markdown",
      "metadata": {
        "id": "view-in-github",
        "colab_type": "text"
      },
      "source": [
        "<a href=\"https://colab.research.google.com/github/ZabalaGaston/HPC/blob/main/Zabala_Gaston_ejercicio_2_GPU.ipynb\" target=\"_parent\"><img src=\"https://colab.research.google.com/assets/colab-badge.svg\" alt=\"Open In Colab\"/></a>"
      ]
    },
    {
      "cell_type": "markdown",
      "metadata": {
        "id": "qoYPFWcielY3"
      },
      "source": [
        "#1 Introducción\n",
        "\n",
        "Una matriz traspuesta es el resultado de reordenar la matriz original mediantel cambio de filas por columnas y las columnas por filas en una nueva matriz. [3][2]\n",
        "\n",
        "\n",
        "\n",
        "<center>(A^t){ij}=A{ji},1 <= m, 1 <= j <= n </center> \n",
        "\n",
        "En este cuaderno, dejaré plasmado el algoritmo para trasponer una matriz cuadrada, utilizando GPU."
      ]
    },
    {
      "cell_type": "markdown",
      "metadata": {
        "id": "32YB71STfPcy"
      },
      "source": [
        "#2 Armado del ambiente"
      ]
    },
    {
      "cell_type": "markdown",
      "metadata": {
        "id": "3GLsQ34ysP4_"
      },
      "source": [
        "---\n",
        "## 2.1 Instala en el cuaderno el módulo CUDA de Python."
      ]
    },
    {
      "cell_type": "code",
      "metadata": {
        "id": "ropgS48tsRTv"
      },
      "source": [
        "!pip install pycuda"
      ],
      "execution_count": null,
      "outputs": []
    },
    {
      "cell_type": "markdown",
      "metadata": {
        "id": "Xt4Pea0Psrx_"
      },
      "source": [
        "---\n",
        "# 3 Desarrollo\n",
        "Ejecución del algoritmo para trasponer una matriz GPU."
      ]
    },
    {
      "cell_type": "code",
      "metadata": {
        "id": "8_uVXVJjz_Jr",
        "colab": {
          "base_uri": "https://localhost:8080/"
        },
        "outputId": "404f9e9a-604f-40c1-bc8a-39aad59ff449"
      },
      "source": [
        "#@title 3.1 Parámetros de ejecución { vertical-output: true }\n",
        "#@title 3.1.1 Ingrese el orden { vertical-output: true }\n",
        "\n",
        "ordenMatriz =   100 #@param {type:\"slider\", min:0, max:100, step:1}\n",
        "\n",
        "# --------------------------------------------\n",
        "%matplotlib inline\n",
        "from datetime import datetime\n",
        "import numpy as np\n",
        "import matplotlib.pyplot as plt\n",
        "import pycuda.driver as cuda\n",
        "import pycuda.autoinit\n",
        "from pycuda.compiler import SourceModule\n",
        "\n",
        "tiempo_total = datetime.now()\n",
        "\n",
        "# --------------------------------------------\n",
        "#Funciones\n",
        "# Definición de función que transforma el tiempo en  milisegundos \n",
        "tiempo_en_ms = lambda dt:(dt.days * 24 * 60 * 60 + dt.seconds) * 1000 + dt.microseconds / 1000.0\n",
        "\n",
        "# Definición de función para crear matriz\n",
        "\n",
        "def crearMatriz(orden):\n",
        "  m = np.random.randint(100, 1000, (ordenMatriz, ordenMatriz))\n",
        "  return m.astype( np.float32())\n",
        "\n",
        "# CPU - Defino la función kernel que ejecutará en GPU.\n",
        "\n",
        "module = SourceModule(\"\"\"\n",
        "__global__ void trasponerMatriz( int orden, float *mo, float *mt )\n",
        "{\n",
        "  // Calculo las coordenadas del Thread en dos dimensiones.\n",
        "  int idx = threadIdx.x + blockIdx.x*blockDim.x;\n",
        "  int idy = threadIdx.y + blockIdx.y*blockDim.y;\n",
        "\n",
        "  // Verifico que los Thread estén dentro del orden de la matriz.\n",
        "  if( idx < orden && idy < orden )\n",
        "  {\n",
        "    int indexMt =  idy * orden + idx;\n",
        "    int indexMo =  idx * orden + idy;\n",
        "\n",
        "    mt[indexMt] = mo[indexMo];\n",
        "  }\n",
        "}\n",
        "\"\"\") \n",
        "\n",
        "# --------------------------------------------\n",
        "\n",
        "# Creo las matrices\n",
        "try:\n",
        "  matriz_cpu = crearMatriz(ordenMatriz)\n",
        "  matrizTraspuesta_cpu = crearMatriz(ordenMatriz)\n",
        "\n",
        "  # Reservo los 2 vectores en GPU\n",
        "  matriz_gpu = cuda.mem_alloc( matriz_cpu.nbytes )\n",
        "  matrizTraspuesta_gpu = cuda.mem_alloc( matrizTraspuesta_cpu.nbytes )\n",
        "\n",
        "  # GPU - Copio la memoria al GPU.\n",
        "  cuda.memcpy_htod( matriz_gpu, matriz_cpu )\n",
        "  cuda.memcpy_htod( matrizTraspuesta_gpu, matrizTraspuesta_cpu )\n",
        "\n",
        "  # CPU - Genero la función kernel.\n",
        "  kernel = module.get_function(\"trasponerMatriz\")\n",
        "\n",
        "  dim_hilo_x = 16\n",
        "  dim_bloque_x = np.int( (ordenMatriz+dim_hilo_x-1) / dim_hilo_x )\n",
        "\n",
        "  dim_hilo_y = 19\n",
        "  dim_bloque_y = np.int( (ordenMatriz+dim_hilo_y-1) / dim_hilo_y )\n",
        "\n",
        "  tiempo_traspuesta = datetime.now()\n",
        "\n",
        "  kernel( np.int32(ordenMatriz), matriz_gpu, matrizTraspuesta_gpu, block=( dim_hilo_x, dim_hilo_y, 1 ), grid=(dim_bloque_x, dim_bloque_y,1) )\n",
        "\n",
        "  tiempo_traspuesta = datetime.now() - tiempo_traspuesta\n",
        "\n",
        "  # GPU - Copio el resultado desde la memoria GPU.\n",
        "  cuda.memcpy_dtoh( matrizTraspuesta_cpu, matrizTraspuesta_gpu )\n",
        "\n",
        "  tiempo_total = datetime.now() - tiempo_total\n",
        "\n",
        "  print(\"Tiempo Total: \", tiempo_en_ms( tiempo_total ), \"[ms]\" )\n",
        "  print(\"Tiempo Trasponer: \", tiempo_en_ms( tiempo_traspuesta ), \"[ms]\" )\n",
        "\n",
        "  print(\"\\n\\nMatriz original\\n\", matriz_cpu)\n",
        "  print(\"\\nMatriz traspuesta\\n\",matrizTraspuesta_cpu)\n",
        "\n",
        "except IndexError:\n",
        "  print(\"Error:\",\"La matriz debe tener un orden mayor a 1\")\n",
        "except Exception as e: \n",
        "  print(e.args)"
      ],
      "execution_count": 29,
      "outputs": [
        {
          "output_type": "stream",
          "text": [
            "Tiempo Total:  3.814 [ms]\n",
            "Tiempo Trasponer:  0.279 [ms]\n",
            "\n",
            "\n",
            "Matriz original\n",
            " [[568. 682. 736. ... 647. 686. 917.]\n",
            " [132. 566. 974. ... 724. 712. 413.]\n",
            " [437. 269. 482. ... 275. 788. 689.]\n",
            " ...\n",
            " [934. 617. 430. ... 185. 793. 463.]\n",
            " [582. 876. 514. ... 300. 500. 736.]\n",
            " [937. 138. 437. ... 595. 610. 690.]]\n",
            "\n",
            "Matriz traspuesta\n",
            " [[568. 132. 437. ... 934. 582. 937.]\n",
            " [682. 566. 269. ... 617. 876. 138.]\n",
            " [736. 974. 482. ... 430. 514. 437.]\n",
            " ...\n",
            " [647. 724. 275. ... 185. 300. 595.]\n",
            " [686. 712. 788. ... 793. 500. 610.]\n",
            " [917. 413. 689. ... 463. 736. 690.]]\n"
          ],
          "name": "stdout"
        }
      ]
    },
    {
      "cell_type": "markdown",
      "metadata": {
        "id": "zqAv4Gt7qRrh"
      },
      "source": [
        "---\n",
        "# 4 Tabla de pasos\n",
        "\n",
        "\n",
        " Procesador | Funciòn | Detalle\n",
        "------------|---------|----------\n",
        "CPU      | pip install pycuda    | Instalar en el cuaderno los driver de CUDA para Python.\n",
        "CPU      |  import                | Importar los módulos para funcionar.\n",
        "CPU      |  datetime.now()        | Tomar el tiempo actual.\n",
        "CPU      |  crearMatriz()         | Crear y cargar valores a la matriz original.\n",
        "CPU      |  crearMatriz()         | Crear matriz traspuesta (matrizTraspuesta).\n",
        "**GPU**  |  cuda.mem_alloc()      | Reservar la memoria para las matrices en GPU.\n",
        "**GPU**  |  cuda.memcpy_htod()    | Copiar los valores en crudo de las matrices al GPU.\n",
        "CPU      |  SourceModule()        | Posee el código del kernel.\n",
        "CPU      |  module.get_function() | Conviertir el texto del kernel en funcion de Python.\n",
        "CPU      |  dim_hilo_x, dim_hilo_y| Calcular las dimensiones para la ejecuciòn de 2D.\n",
        "**GPU**  |  kernel()              | Ejecutar el kernel en GPU, enviando los parametros (Traspone la matriz).\n",
        "CPU      | datetime.now() - tiempo_traspuesta | Calcular tiempo total en trasponerMatriz. (GPU(\n",
        "CPU      | cuda.memcpy_dtoh()     | Copiar desde la memoria GPU al CPU.\n",
        "CPU      |  datetime.now() - tiempo_total | Calcular el tiempo total.\n",
        "CPU      |  tiempo_en_ms( time ) | Transformar tiempos en milisegundos.\n",
        "CPU      |  print()               | Mostrar estadísticas.\n",
        "CPU      |  print()            | Mostrar matriz original y matriz traspuesta.\n"
      ]
    },
    {
      "cell_type": "markdown",
      "metadata": {
        "id": "Qtiz4_7bmaDe"
      },
      "source": [
        "---\n",
        "# 5 Conclusiones\n",
        "\n",
        "Realicé la ejecución 7 veces para una matriz cuadrada de 100 x 100, obteniendo los siguientes resultados:\n",
        "\n",
        "Tiempo Total:  2.239 [ms] | Tiempo Trasponer:  0.109 [ms]<br>\n",
        "Tiempo Total:  2.182 [ms] | Tiempo Trasponer:  0.084 [ms]<br>\n",
        "Tiempo Total:  3.280 [ms]  | Tiempo Trasponer:  0.081 [ms]<br>\n",
        "Tiempo Total:  2.307 [ms] | Tiempo Trasponer:  0.077 [ms]<br>\n",
        "Tiempo Total:  2.368 [ms] | Tiempo Trasponer:  0.082 [ms]<br>\n",
        "Tiempo Total:  2.138 [ms] | Tiempo Trasponer:  0.117 [ms]<br>\n",
        "Tiempo Total:  1.585 [ms] | Tiempo Trasponer:  0.083 [ms]<br>\n",
        "\n",
        "Podemos observar, que los tiempos de ejecución promedio [2,299 ms] del programa son muchos **menores** a los obtenidos sin utilizar GPU. [8.649 ms]\n"
      ]
    },
    {
      "cell_type": "markdown",
      "metadata": {
        "id": "ufDYy0LPmbYH"
      },
      "source": [
        "----\n",
        "# 6 Bibliografía\n",
        "\n",
        "[1] Tutorial Point Colab: [PDF](https://github.com/wvaliente/SOA_HPC/blob/main/Documentos/markdown-cheatsheet-online.pdf)\n",
        "\n",
        "[2] Matriz traspuesta: [Enlace](https://es.wikipedia.org/wiki/Matriz_transpuesta)\n",
        "\n",
        "[3] Traspuesta: [Enlace](https://economipedia.com/definiciones/matriz-traspuesta.html#:~:text=Una%20matriz%20traspuesta%20es%20el,filas%20en%20una%20nueva%20matriz)"
      ]
    }
  ]
}