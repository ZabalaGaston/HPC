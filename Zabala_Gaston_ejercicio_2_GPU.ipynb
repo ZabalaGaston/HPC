{
  "nbformat": 4,
  "nbformat_minor": 0,
  "metadata": {
    "colab": {
      "name": "Zabala_Gaston_ejercicio_2_GPU.ipynb",
      "provenance": [],
      "collapsed_sections": [],
      "include_colab_link": true
    },
    "kernelspec": {
      "name": "python3",
      "display_name": "Python 3"
    },
    "accelerator": "GPU"
  },
  "cells": [
    {
      "cell_type": "markdown",
      "metadata": {
        "id": "view-in-github",
        "colab_type": "text"
      },
      "source": [
        "<a href=\"https://colab.research.google.com/github/ZabalaGaston/HPC/blob/main/Zabala_Gaston_ejercicio_2_GPU.ipynb\" target=\"_parent\"><img src=\"https://colab.research.google.com/assets/colab-badge.svg\" alt=\"Open In Colab\"/></a>"
      ]
    },
    {
      "cell_type": "markdown",
      "metadata": {
        "id": "qoYPFWcielY3"
      },
      "source": [
        "# 1 Introducción\n",
        "\n",
        "El siguiente ejemplo modifica el color de una imágen parametrizada, a escala de grises. El cálculo de la escala se realiza convirtiendo los 3 canales RGB, que representan a los colores R (*rojo*)-G(*verde*)-B(*azul*), de cada pixel siguiendo la ecuación:\n",
        "\n",
        "<center>$ Pixel=R*0.30+G*0.59+B*0.11$</center>\n",
        "\n",
        "EL objetivo es enseñar el funcionamiento del Lenguaje Python, CUDA y el manejo de imagenes a bajo nivel. El ejemplo es ilustrativo, ya que internamente el módulo Pillow posee varios filtros integrados."
      ]
    },
    {
      "cell_type": "markdown",
      "metadata": {
        "id": "32YB71STfPcy"
      },
      "source": [
        "---\n",
        "# 2 Armado del ambiente\n",
        "Toma la direcciòn web de una imagen con  acceso público en internet, la deja disponible al contexto de ejecuciòn del cuaderno colab."
      ]
    },
    {
      "cell_type": "code",
      "metadata": {
        "id": "QcnL4UkAN7ub",
        "colab": {
          "base_uri": "https://localhost:8080/"
        },
        "outputId": "8267878b-4f59-4ba8-b99f-37c0bc256a93"
      },
      "source": [
        "#@title # 2.1 Parámetros de ejecución\n",
        "#@markdown ---\n",
        "#@markdown ### Especifique la URL de la imagen:\n",
        "url_imagen = \"https://www.dzoom.org.es/wp-content/uploads/2017/07/seebensee-2384369-1024x681.jpg\" #@param {type:\"string\"}\n",
        "!wget {url_imagen} -O imagen.jpg\n",
        "\n"
      ],
      "execution_count": null,
      "outputs": [
        {
          "output_type": "stream",
          "text": [
            "--2020-11-17 14:18:12--  https://www.dzoom.org.es/wp-content/uploads/2017/07/seebensee-2384369-1024x681.jpg\n",
            "Resolving www.dzoom.org.es (www.dzoom.org.es)... 172.67.73.36, 104.26.11.161, 104.26.10.161, ...\n",
            "Connecting to www.dzoom.org.es (www.dzoom.org.es)|172.67.73.36|:443... connected.\n",
            "HTTP request sent, awaiting response... 200 OK\n",
            "Length: 239427 (234K) [image/jpeg]\n",
            "Saving to: ‘imagen.jpg’\n",
            "\n",
            "\rimagen.jpg            0%[                    ]       0  --.-KB/s               \rimagen.jpg          100%[===================>] 233.82K  --.-KB/s    in 0.05s   \n",
            "\n",
            "2020-11-17 14:18:12 (5.06 MB/s) - ‘imagen.jpg’ saved [239427/239427]\n",
            "\n"
          ],
          "name": "stdout"
        }
      ]
    },
    {
      "cell_type": "markdown",
      "metadata": {
        "id": "3GLsQ34ysP4_"
      },
      "source": [
        "---\n",
        "## 2.2 Instala en el cuaderno el módulo CUDA de Python."
      ]
    },
    {
      "cell_type": "code",
      "metadata": {
        "id": "ropgS48tsRTv",
        "colab": {
          "base_uri": "https://localhost:8080/"
        },
        "outputId": "2aeb2638-95ec-40e0-8813-fcb2433857bf"
      },
      "source": [
        "!pip install pycuda"
      ],
      "execution_count": null,
      "outputs": [
        {
          "output_type": "stream",
          "text": [
            "Collecting pycuda\n",
            "\u001b[?25l  Downloading https://files.pythonhosted.org/packages/46/61/47d3235a4c13eec5a5f03594ddb268f4858734e02980afbcd806e6242fa5/pycuda-2020.1.tar.gz (1.6MB)\n",
            "\u001b[K     |████████████████████████████████| 1.6MB 11.1MB/s \n",
            "\u001b[?25hCollecting pytools>=2011.2\n",
            "\u001b[?25l  Downloading https://files.pythonhosted.org/packages/b7/30/c9362a282ef89106768cba9d884f4b2e4f5dc6881d0c19b478d2a710b82b/pytools-2020.4.3.tar.gz (62kB)\n",
            "\u001b[K     |████████████████████████████████| 71kB 8.0MB/s \n",
            "\u001b[?25hRequirement already satisfied: decorator>=3.2.0 in /usr/local/lib/python3.6/dist-packages (from pycuda) (4.4.2)\n",
            "Collecting appdirs>=1.4.0\n",
            "  Downloading https://files.pythonhosted.org/packages/3b/00/2344469e2084fb287c2e0b57b72910309874c3245463acd6cf5e3db69324/appdirs-1.4.4-py2.py3-none-any.whl\n",
            "Collecting mako\n",
            "\u001b[?25l  Downloading https://files.pythonhosted.org/packages/a6/37/0e706200d22172eb8fa17d68a7ae22dec7631a0a92266634fb518a88a5b2/Mako-1.1.3-py2.py3-none-any.whl (75kB)\n",
            "\u001b[K     |████████████████████████████████| 81kB 8.4MB/s \n",
            "\u001b[?25hRequirement already satisfied: six>=1.8.0 in /usr/local/lib/python3.6/dist-packages (from pytools>=2011.2->pycuda) (1.15.0)\n",
            "Requirement already satisfied: numpy>=1.6.0 in /usr/local/lib/python3.6/dist-packages (from pytools>=2011.2->pycuda) (1.18.5)\n",
            "Requirement already satisfied: dataclasses>=0.7 in /usr/local/lib/python3.6/dist-packages (from pytools>=2011.2->pycuda) (0.7)\n",
            "Requirement already satisfied: MarkupSafe>=0.9.2 in /usr/local/lib/python3.6/dist-packages (from mako->pycuda) (1.1.1)\n",
            "Building wheels for collected packages: pycuda, pytools\n",
            "  Building wheel for pycuda (setup.py) ... \u001b[?25l\u001b[?25hdone\n",
            "  Created wheel for pycuda: filename=pycuda-2020.1-cp36-cp36m-linux_x86_64.whl size=620990 sha256=f30d8988755c64cd20e89d4047534c38cbb18d82c72ffdd00fb7889b461ebe30\n",
            "  Stored in directory: /root/.cache/pip/wheels/8f/78/d1/5bb826f81d9d490297a348d818ff3ee6dd6f2075b06dde6ea0\n",
            "  Building wheel for pytools (setup.py) ... \u001b[?25l\u001b[?25hdone\n",
            "  Created wheel for pytools: filename=pytools-2020.4.3-py2.py3-none-any.whl size=61374 sha256=67cc41c06695ecddf347687c7a56d8bb6513eb46df3bfc28d28052f1b06dabd2\n",
            "  Stored in directory: /root/.cache/pip/wheels/af/c7/81/a22edb90b0b09a880468b2253bb1df8e9f503337ee15432c64\n",
            "Successfully built pycuda pytools\n",
            "Installing collected packages: appdirs, pytools, mako, pycuda\n",
            "Successfully installed appdirs-1.4.4 mako-1.1.3 pycuda-2020.1 pytools-2020.4.3\n"
          ],
          "name": "stdout"
        }
      ]
    },
    {
      "cell_type": "markdown",
      "metadata": {
        "id": "Xt4Pea0Psrx_"
      },
      "source": [
        "---\n",
        "# 3 Desarrollo\n",
        "Ejecución del algoritmo escala de grises en GPU."
      ]
    },
    {
      "cell_type": "code",
      "metadata": {
        "id": "8_uVXVJjz_Jr",
        "colab": {
          "base_uri": "https://localhost:8080/",
          "height": 367
        },
        "outputId": "2d1a8de5-47d5-4b9c-b0c0-de395d9df109"
      },
      "source": [
        "%matplotlib inline\n",
        "from datetime import datetime\n",
        "tiempo_total = datetime.now()\n",
        "\n",
        "import matplotlib.pyplot as plt\n",
        "import numpy\n",
        "from PIL import Image \n",
        "import pycuda.driver as cuda\n",
        "import pycuda.autoinit\n",
        "from pycuda.compiler import SourceModule\n",
        "\n",
        "# --------------------------------------------\n",
        "# Definición de función que transforma el tiempo en  milisegundos \n",
        "tiempo_en_ms = lambda dt:(dt.days * 24 * 60 * 60 + dt.seconds) * 1000 + dt.microseconds / 1000.0\n",
        "# --------------------------------------------\n",
        "\n",
        "img_nombre = 'imagen.jpg'\n",
        "image = Image.open( img_nombre ) \n",
        "  \n",
        "# summarize some details about the image \n",
        "img_alto, img_ancho = image.size \n",
        "\n",
        "# Convierto la imagen comprimida en JPEG/PNG a array\n",
        "img_O_cpu = numpy.asarray(image)\n",
        "img_R_cpu = numpy.empty_like( img_O_cpu)\n",
        "\n",
        "# Reservo los 2 vectores en GPU(3 pixeles usa RGB * (el tamaño del array))\n",
        "img_O_gpu = cuda.mem_alloc( img_O_cpu.nbytes )\n",
        "img_R_gpu = cuda.mem_alloc( img_R_cpu.nbytes )\n",
        "\n",
        "# GPU - Copio la memoria al GPU.\n",
        "cuda.memcpy_htod( img_O_gpu, img_O_cpu )\n",
        "cuda.memcpy_htod( img_R_gpu, img_R_cpu )\n",
        "\n",
        "# CPU - Defino la función kernel que ejecutará en GPU.\n",
        "module = SourceModule(\"\"\"\n",
        "__global__ void kernel_img( int ancho, int alto, char *img_O, char *img_R )\n",
        "{\n",
        "  // Calculo las coordenadas del Thread en dos dimensiones.\n",
        "  int idx = threadIdx.x + blockIdx.x*blockDim.x;\n",
        "  int idy = threadIdx.y + blockIdx.y*blockDim.y;\n",
        "  float fGris = 0.0;\n",
        "  float max, diferencia,h,s,v;\n",
        "  char r,g,b,min;\n",
        "  int i;\n",
        "\n",
        "  // Verifico que los Thread, esten dentro de las dimensiones de la imagen.\n",
        "  if( idx < ancho && idy < alto )\n",
        "  {\n",
        "    r = img_O[(idx+(idy*ancho))*3];\n",
        "    g = img_O[((idx+(idy*ancho))*3)+1];\n",
        "    b = img_O[((idx+(idy*ancho))*3)+2];\n",
        "\n",
        "    //r = 1.0;\n",
        "    //g = 97.0;\n",
        "    //b = 183.0;\n",
        "\n",
        "    if( r < g  && r < b ) \n",
        "      min = r;\n",
        "    else { \n",
        "      if( g <  b ) {\n",
        "        min = g;\n",
        "      } else {\n",
        "        min = b ;\n",
        "      } \n",
        "    }\n",
        "\n",
        "    if( r > g  && r  > b) \n",
        "      max = r;\n",
        "    else { \n",
        "      if( g > b ) {\n",
        "        max = g;\n",
        "      } else {\n",
        "        max = b ;\n",
        "      } \n",
        "    }\n",
        "   \n",
        "    diferencia = max - min;\n",
        "\n",
        "    if (min == max)\n",
        "      h = 0;\n",
        "    else if (max == r)\n",
        "      h = int(60 *((g - b)/diferencia) + 360)% 360;\n",
        "    else if (max == g)\n",
        "      h = int(60 * ((g - b)/diferencia) + 120 ) % 360;\n",
        "    else if (max == b)\n",
        "      h = int(60 * ((g - b)/diferencia) + 240) % 360;\n",
        "\n",
        "    if (max == 0)\n",
        "      s = 0;\n",
        "    else\n",
        "      s = (diferencia / max) * 100;\n",
        "\n",
        "    v = max * 100;\n",
        "\n",
        "    // Calculo el color gris para el pixel a partir de los componentes.\n",
        "    //fGris = (float)img_O[(idx+(idy*ancho))*3    ]*0.299;  // Componente Rojo del pixel.\n",
        "    //fGris +=(float)img_O[((idx+(idy*ancho))*3)+1]*0.599;  // Componente Verde del pixel.\n",
        "    //fGris +=(float)img_O[((idx+(idy*ancho))*3)+2]*0.11;   // Componente Azul del pixel.\n",
        "\n",
        "    // Escribo el color del pixel.\n",
        "    img_R[(idx+(idy*ancho))*3  ] = (char) min;\n",
        "    img_R[(idx+(idy*ancho))*3+1] = (char) s;\n",
        "    img_R[(idx+(idy*ancho))*3+2] = (char) v;\n",
        "  }\n",
        "}\n",
        "\"\"\") \n",
        "\n",
        "# Muestro los atributos de la imagen y como se ve antes del seudo filtro.\n",
        "print(\"Imagen del filtro: \" + img_nombre + \" -\" + image.mode + \"- [\" + str(img_ancho) + \", \" + str(img_alto ) + \"]\" )  \n",
        "\n",
        "# CPU - Genero la función kernel.\n",
        "kernel = module.get_function(\"kernel_img\")\n",
        "\n",
        "tiempo_img = datetime.now()\n",
        "\n",
        "dim_hilo_x = 16\n",
        "dim_bloque_x = numpy.int( (img_ancho+dim_hilo_x-1) / dim_hilo_x )\n",
        "\n",
        "dim_hilo_y = 19\n",
        "dim_bloque_y = numpy.int( (img_alto+dim_hilo_y-1) / dim_hilo_y )\n",
        "\n",
        "print( \"Thread: [\", dim_hilo_x, \",\", dim_hilo_y, \" ], Bloque : [\", dim_bloque_x, \",\", dim_bloque_y, \"]\" )\n",
        "print( \"Total de Thread: [\", dim_hilo_x*dim_bloque_x, \",\", dim_hilo_y*dim_bloque_y, \" ]\", \" = \", dim_hilo_x*dim_bloque_x*dim_hilo_y*dim_bloque_y )\n",
        "\n",
        "tiempo_img = datetime.now()\n",
        "\n",
        "kernel( numpy.int32(img_ancho), numpy.int32(img_alto), img_O_gpu, img_R_gpu, block=( dim_hilo_x, dim_hilo_y, 1 ), grid=(dim_bloque_x, dim_bloque_y,1) )\n",
        "\n",
        "tiempo_img = datetime.now() - tiempo_img\n",
        "\n",
        "# GPU - Copio el resultado desde la memoria GPU.\n",
        "cuda.memcpy_dtoh( img_R_cpu, img_R_gpu )\n",
        "\n",
        "# Muestro la imagen Original el filtro.\n",
        "plt.figure()\n",
        "imgplot=plt.imshow( img_O_cpu )\n",
        "\n",
        "# Muestro la imagen luego de aplicarle el filtro.\n",
        "plt.figure()\n",
        "imgplot=plt.imshow( img_R_cpu )\n",
        "\n",
        "tiempo_total = datetime.now() - tiempo_total\n",
        "\n",
        "print(\"Tiempo TOTAL: \", tiempo_en_ms( tiempo_total ), \"[ms]\" )\n",
        "print(\"Tiempo GPU  : \", tiempo_en_ms( tiempo_img ), \"[ms]\" )\n",
        "print(img_O_cpu[1][1])\n",
        "print(img_R_cpu[1][1])"
      ],
      "execution_count": 1,
      "outputs": [
        {
          "output_type": "error",
          "ename": "ModuleNotFoundError",
          "evalue": "ignored",
          "traceback": [
            "\u001b[0;31m---------------------------------------------------------------------------\u001b[0m",
            "\u001b[0;31mModuleNotFoundError\u001b[0m                       Traceback (most recent call last)",
            "\u001b[0;32m<ipython-input-1-ec9c9de8afd6>\u001b[0m in \u001b[0;36m<module>\u001b[0;34m()\u001b[0m\n\u001b[1;32m      6\u001b[0m \u001b[0;32mimport\u001b[0m \u001b[0mnumpy\u001b[0m\u001b[0;34m\u001b[0m\u001b[0;34m\u001b[0m\u001b[0m\n\u001b[1;32m      7\u001b[0m \u001b[0;32mfrom\u001b[0m \u001b[0mPIL\u001b[0m \u001b[0;32mimport\u001b[0m \u001b[0mImage\u001b[0m\u001b[0;34m\u001b[0m\u001b[0;34m\u001b[0m\u001b[0m\n\u001b[0;32m----> 8\u001b[0;31m \u001b[0;32mimport\u001b[0m \u001b[0mpycuda\u001b[0m\u001b[0;34m.\u001b[0m\u001b[0mdriver\u001b[0m \u001b[0;32mas\u001b[0m \u001b[0mcuda\u001b[0m\u001b[0;34m\u001b[0m\u001b[0;34m\u001b[0m\u001b[0m\n\u001b[0m\u001b[1;32m      9\u001b[0m \u001b[0;32mimport\u001b[0m \u001b[0mpycuda\u001b[0m\u001b[0;34m.\u001b[0m\u001b[0mautoinit\u001b[0m\u001b[0;34m\u001b[0m\u001b[0;34m\u001b[0m\u001b[0m\n\u001b[1;32m     10\u001b[0m \u001b[0;32mfrom\u001b[0m \u001b[0mpycuda\u001b[0m\u001b[0;34m.\u001b[0m\u001b[0mcompiler\u001b[0m \u001b[0;32mimport\u001b[0m \u001b[0mSourceModule\u001b[0m\u001b[0;34m\u001b[0m\u001b[0;34m\u001b[0m\u001b[0m\n",
            "\u001b[0;31mModuleNotFoundError\u001b[0m: No module named 'pycuda'",
            "",
            "\u001b[0;31m---------------------------------------------------------------------------\u001b[0;32m\nNOTE: If your import is failing due to a missing package, you can\nmanually install dependencies using either !pip or !apt.\n\nTo view examples of installing some common dependencies, click the\n\"Open Examples\" button below.\n\u001b[0;31m---------------------------------------------------------------------------\u001b[0m\n"
          ]
        }
      ]
    },
    {
      "cell_type": "markdown",
      "metadata": {
        "id": "zqAv4Gt7qRrh"
      },
      "source": [
        "---\n",
        "# 4 Tabla de pasos\n",
        "\n",
        "\n",
        " Procesador | Funciòn | Detalle\n",
        "------------|---------|----------\n",
        "CPU      |  wget url_imagen       | Lectura de la direcciòn URL de la imagen (jpg) a procesar.\n",
        "CPU      | pip install pycuda    | Instala en el cuaderno los driver de CUDA para Python.\n",
        "CPU      |  matplotlib inline    | Macro de Colab para mostrar imagenes.\n",
        "CPU      |  import                | Importa los módulos para funcionar.\n",
        "CPU      |  datetime.now()        | Toma el tiempo actual.\n",
        "CPU      |  Image.open()          | Abre el archivo de la imagen.\n",
        "CPU      |  numpy.asarray(imagen) | Convierte el formato comprimido JPG a RAW.\n",
        "CPU      |  numpy.empty_like(()   | Genera el array destino, que tendrá a la imagen resultado. \n",
        "**GPU**  |  cuda.mem_alloc()      | Reserva la memoria para las imagenes en GPU.\n",
        "**GPU**  |  cuda.memcpy_htod()    | Copio los valores en crudo de las imagenes al GPU.\n",
        "CPU      |  SourceModule()        | Posee el còdigo del kernel.\n",
        "CPU      |  module.get_function() | convierte el texto del kernel en funcion de Python.\n",
        "CPU      |  dim_hilo_x, dim_hilo_y| Calcula las dimensiones para la ejecuciòn de 2D.\n",
        "**GPU**  |  kernel()              | Ejecuta el kernel en GPU, enviando los parametros.\n",
        "CPU      |  print()               | Informa los atributos de la imagen.\n",
        "CPU      | cuda.memcpy_dtoh()     | Copia desde la memoria GPU al CPU.\n",
        "CPU      |  plt.imshow            | Muestra la imagen original.\n",
        "CPU      |  plt.imshow            | Muestra la imagen resultado.\n",
        "\n"
      ]
    },
    {
      "cell_type": "markdown",
      "metadata": {
        "id": "Qtiz4_7bmaDe"
      },
      "source": [
        "---\n",
        "# 5 Conclusiones\n",
        "\n",
        "Las conclusiones son explicadas en clase..."
      ]
    },
    {
      "cell_type": "markdown",
      "metadata": {
        "id": "ufDYy0LPmbYH"
      },
      "source": [
        "---\n",
        "# 6 Bibliografía\n",
        "\n",
        "[1] MARKDOWN SYNTAX Colab: [PDF](https://github.com/wvaliente/SOA_HPC/blob/main/Documentos/markdown-cheatsheet-online.pdf)\n",
        "\n",
        "[2] Introducción a Python: [Página Colab](https://github.com/wvaliente/SOA_HPC/blob/main/Documentos/Python_Basico.ipynb) \n",
        "\n",
        "[3] Tutorial Point Colab: [PDF](https://github.com/wvaliente/SOA_HPC/blob/main/Documentos/markdown-cheatsheet-online.pdf)\n",
        "\n",
        "[4] 2009, SINTESIS DIGITAL DE COLOR UTILIZANDO TONOS DE GRIS, ING. JESÚS GUSTAVO FLORES ERAÑA : [PDF](https://ninive.uaslp.mx/xmlui/bitstream/handle/i/2264/MCA1SDC00901.pdf?sequence=1&isAllowed=y)\n"
      ]
    }
  ]
}