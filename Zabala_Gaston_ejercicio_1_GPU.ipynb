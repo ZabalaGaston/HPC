{
  "nbformat": 4,
  "nbformat_minor": 0,
  "metadata": {
    "colab": {
      "name": "Zabala_Gaston_ejercicio_1_GPU.ipynb",
      "provenance": [],
      "authorship_tag": "ABX9TyMvXbprVngkuSJ1ct+hDHvd",
      "include_colab_link": true
    },
    "kernelspec": {
      "name": "python3",
      "display_name": "Python 3"
    },
    "accelerator": "GPU"
  },
  "cells": [
    {
      "cell_type": "markdown",
      "metadata": {
        "id": "view-in-github",
        "colab_type": "text"
      },
      "source": [
        "<a href=\"https://colab.research.google.com/github/ZabalaGaston/HPC/blob/main/Zabala_Gaston_ejercicio_1_GPU.ipynb\" target=\"_parent\"><img src=\"https://colab.research.google.com/assets/colab-badge.svg\" alt=\"Open In Colab\"/></a>"
      ]
    },
    {
      "cell_type": "markdown",
      "metadata": {
        "id": "QXhwEJBJfZbv"
      },
      "source": [
        "# 1 Introducción\n",
        "\n",
        "La aceleración es la tasa de variación de la velocidad de un objeto cuando se mueve. Si el objeto en cuestión mantiene su velocidad de forma constante, entonces no está acelerando, algo que sí hará cuando su velocidad cambia. La aceleración se mide en metros por segundo al cuadrado, y lo hace en base al tiempo que le lleva pasar de una velocidad a otra, o bien en una fuerza que se aplica sobre el objeto. [1]\n",
        "\n",
        "Se puede calcular la aceleración de un cuerpo mediante la siguiente fórmula:\n",
        "\n",
        "## <center>$\\frac{vf-vi}{tf-ti} = {a}$\n",
        "\n",
        "A continuación, calcularemos la aceleración de varios cuerpos utilizando GPU.\n"
      ]
    },
    {
      "cell_type": "markdown",
      "metadata": {
        "id": "Sy0yDrgTfgTq"
      },
      "source": [
        "#2 Armado del ambiente\n",
        "Instalar en el cuaderno el módulo CUDA de Python."
      ]
    },
    {
      "cell_type": "code",
      "metadata": {
        "id": "tyiI98dNjiH0",
        "colab": {
          "base_uri": "https://localhost:8080/"
        },
        "outputId": "ca10a645-1d6c-449e-e5fe-7137c13def4e"
      },
      "source": [
        "!pip install pycuda"
      ],
      "execution_count": null,
      "outputs": [
        {
          "output_type": "stream",
          "text": [
            "Collecting pycuda\n",
            "\u001b[?25l  Downloading https://files.pythonhosted.org/packages/46/61/47d3235a4c13eec5a5f03594ddb268f4858734e02980afbcd806e6242fa5/pycuda-2020.1.tar.gz (1.6MB)\n",
            "\u001b[K     |████████████████████████████████| 1.6MB 23.2MB/s \n",
            "\u001b[?25hCollecting pytools>=2011.2\n",
            "\u001b[?25l  Downloading https://files.pythonhosted.org/packages/b7/30/c9362a282ef89106768cba9d884f4b2e4f5dc6881d0c19b478d2a710b82b/pytools-2020.4.3.tar.gz (62kB)\n",
            "\u001b[K     |████████████████████████████████| 71kB 10.4MB/s \n",
            "\u001b[?25hRequirement already satisfied: decorator>=3.2.0 in /usr/local/lib/python3.6/dist-packages (from pycuda) (4.4.2)\n",
            "Collecting appdirs>=1.4.0\n",
            "  Downloading https://files.pythonhosted.org/packages/3b/00/2344469e2084fb287c2e0b57b72910309874c3245463acd6cf5e3db69324/appdirs-1.4.4-py2.py3-none-any.whl\n",
            "Collecting mako\n",
            "\u001b[?25l  Downloading https://files.pythonhosted.org/packages/a6/37/0e706200d22172eb8fa17d68a7ae22dec7631a0a92266634fb518a88a5b2/Mako-1.1.3-py2.py3-none-any.whl (75kB)\n",
            "\u001b[K     |████████████████████████████████| 81kB 13.6MB/s \n",
            "\u001b[?25hRequirement already satisfied: six>=1.8.0 in /usr/local/lib/python3.6/dist-packages (from pytools>=2011.2->pycuda) (1.15.0)\n",
            "Requirement already satisfied: numpy>=1.6.0 in /usr/local/lib/python3.6/dist-packages (from pytools>=2011.2->pycuda) (1.18.5)\n",
            "Requirement already satisfied: dataclasses>=0.7 in /usr/local/lib/python3.6/dist-packages (from pytools>=2011.2->pycuda) (0.7)\n",
            "Requirement already satisfied: MarkupSafe>=0.9.2 in /usr/local/lib/python3.6/dist-packages (from mako->pycuda) (1.1.1)\n",
            "Building wheels for collected packages: pycuda, pytools\n",
            "  Building wheel for pycuda (setup.py) ... \u001b[?25l\u001b[?25hdone\n",
            "  Created wheel for pycuda: filename=pycuda-2020.1-cp36-cp36m-linux_x86_64.whl size=621008 sha256=0ac5de53df9ed009bbff660540b1269a4c1ffaef8b67543833d35ac168949b03\n",
            "  Stored in directory: /root/.cache/pip/wheels/8f/78/d1/5bb826f81d9d490297a348d818ff3ee6dd6f2075b06dde6ea0\n",
            "  Building wheel for pytools (setup.py) ... \u001b[?25l\u001b[?25hdone\n",
            "  Created wheel for pytools: filename=pytools-2020.4.3-py2.py3-none-any.whl size=61374 sha256=9c72a071e38e0e189a6dcaf17c80828c2452c4f74c844a1c46ae1ebb20ab2769\n",
            "  Stored in directory: /root/.cache/pip/wheels/af/c7/81/a22edb90b0b09a880468b2253bb1df8e9f503337ee15432c64\n",
            "Successfully built pycuda pytools\n",
            "Installing collected packages: appdirs, pytools, mako, pycuda\n",
            "Successfully installed appdirs-1.4.4 mako-1.1.3 pycuda-2020.1 pytools-2020.4.3\n"
          ],
          "name": "stdout"
        }
      ]
    },
    {
      "cell_type": "markdown",
      "metadata": {
        "id": "WuNKk_olfjpa"
      },
      "source": [
        "#3 Desarrollo"
      ]
    },
    {
      "cell_type": "code",
      "metadata": {
        "id": "jpQdhl5pjvoc",
        "colab": {
          "base_uri": "https://localhost:8080/"
        },
        "outputId": "809d47b7-783f-4985-eb16-aae90930c94e"
      },
      "source": [
        "# --------------------------------------------\n",
        "#@title 3.1 Parámetros de ejecución { vertical-output: true }\n",
        "\n",
        "cantidadVehiculos =   1000#@param {type: \"integer\", min:0}\n",
        "tiempoSegundos =   30 #@param {type:\"slider\", min:0, max:100, step:1}\n",
        "\n",
        "# --------------------------------------------\n",
        "\n",
        "from datetime import datetime\n",
        "import pycuda.driver as cuda\n",
        "import pycuda.autoinit\n",
        "from pycuda.compiler import SourceModule\n",
        "import numpy\n",
        "\n",
        "#Defino variables\n",
        "acelTotal_cpu = 0\n",
        "vMax = 120 # [m/s]\n",
        "\n",
        "tiempo_total = datetime.now()\n",
        "\n",
        "# --------------------------------------------\n",
        "# Definición de función que transforma el tiempo en  milisegundos \n",
        "tiempo_en_ms = lambda dt:(dt.days * 24 * 60 * 60 + dt.seconds) * 1000 + dt.microseconds / 1000.0\n",
        "\n",
        "try: \n",
        "\n",
        "  if cantidadVehiculos < 0:\n",
        "    raise ValueError(\"La cantidad de vehículos debe ser mayor a 0\");\n",
        "\n",
        "  if tiempoSegundos == 0:\n",
        "    raise ValueError(\"El tiempo debe ser mayor a cero\");\n",
        "\n",
        "  # --------------------------------------------\n",
        "  # CPU - Defino la memoria de los vectores en cpu.\n",
        "  vi_cpu = numpy.random.randint(vMax, size=cantidadVehiculos)\n",
        "  vi_cpu = vi_cpu.astype( numpy.float32() )\n",
        "\n",
        "  vf_cpu = numpy.random.randint(vMax, size=cantidadVehiculos)\n",
        "  vf_cpu = vf_cpu.astype( numpy.float32() )\n",
        "  acel_cpu = numpy.empty_like( vf_cpu )\n",
        "\n",
        "  # CPU - reservo la memoria GPU.\n",
        "  vf_gpu = cuda.mem_alloc( vf_cpu.nbytes )\n",
        "  vi_gpu = cuda.mem_alloc( vi_cpu.nbytes )\n",
        "\n",
        "  # GPU - Copio la memoria al GPU.\n",
        "  cuda.memcpy_htod( vf_gpu, vf_cpu )\n",
        "  cuda.memcpy_htod( vi_gpu, vi_cpu )\n",
        "\n",
        "  # CPU - Defino la función kernel que ejecutará en GPU.\n",
        "  module = SourceModule(\"\"\"\n",
        "  __global__ void kernel_acel( int n, float time, float *vf, float *vi)\n",
        "  {\n",
        "    int idx = threadIdx.x + blockIdx.x*blockDim.x;\n",
        "    if( idx < n )\n",
        "    {\n",
        "      vf[idx] = (vf[idx] - vi[idx])/time;\n",
        "    }\n",
        "  }\n",
        "  \"\"\") \n",
        "\n",
        "  # CPU - Genero la función kernel.\n",
        "  kernel = module.get_function(\"kernel_acel\")\n",
        "\n",
        "  tiempo_gpu = datetime.now()\n",
        "\n",
        "  # GPU - Ejecuta el kernel.\n",
        "  dim_hilo = 256\n",
        "  dim_bloque = numpy.int( (cantidadVehiculos+dim_hilo-1) / dim_hilo )\n",
        "\n",
        "  kernel(numpy.int32(cantidadVehiculos),numpy.float32(tiempoSegundos), vf_gpu, vi_gpu, block=( dim_hilo, 1, 1 ),grid=(dim_bloque, 1,1) )\n",
        "  tiempo_gpu = datetime.now() - tiempo_gpu\n",
        "\n",
        "  # GPU - Copio el resultado desde la memoria GPU.\n",
        "  cuda.memcpy_dtoh( acel_cpu, vf_gpu )\n",
        "\n",
        "  acelPromedio = numpy.mean(acel_cpu) \n",
        "  tiempo_total = datetime.now() - tiempo_total\n",
        "\n",
        "  print( \"Cantidad de elementos: \", cantidadVehiculos )\n",
        "  print( \"Thread x: \", dim_hilo, \", Bloque x:\", dim_bloque )\n",
        "  print(\"Tiempo GPU: \", tiempo_en_ms( tiempo_gpu   ), \"[ms]\" )\n",
        "  print(\"Tiempo Total: \", tiempo_en_ms( tiempo_total ), \"[ms]\" )\n",
        "  print(\"Aceleración promedio: \", acelPromedio, \"[m/s2]\" )\n",
        "\n",
        "except ValueError:\n",
        "  print (valerr)\n",
        "except Exception as e:\n",
        "  print(\"Error:\",e.args)\n",
        "                       "
      ],
      "execution_count": null,
      "outputs": [
        {
          "output_type": "stream",
          "text": [
            "Cantidad de elementos:  1000\n",
            "Thread x:  256 , Bloque x: 4\n",
            "Tiempo GPU:  0.086 [ms]\n",
            "Tiempo Total:  2.31 [ms]\n",
            "Aceleración promedio:  -0.0602 [m/s2]\n"
          ],
          "name": "stdout"
        }
      ]
    },
    {
      "cell_type": "markdown",
      "metadata": {
        "id": "60IYMc-MfmHS"
      },
      "source": [
        "#4 Tabla de pasos\n",
        "\n",
        " Procesador | Función | Detalle\n",
        "------------|---------|----------\n",
        "CPU      |  @param                | Lectura del tamaño de vectores desde Colab.\n",
        "CPU      |  @param                | Lectura del tiempo.\n",
        "CPU      |  import                | Importa los módulos para funcionar.\n",
        "CPU      |  datetime.now()        | Toma el tiempo actual.\n",
        "CPU      |  numpy.random.randn( Cantidad_N ) | Inicializa los vectoes vf, vi y acel.\n",
        "**GPU**  |  cuda.mem_alloc()      | Reserva la memoria en GPU.\n",
        "**GPU**  |  cuda.memcpy_htod()    | Copia las memorias desde el CPU al GPU.\n",
        "CPU      |  SourceModule()        | Define el código del kernel \n",
        "CPU      |  module.get_function() | Genera la función del kernel GPU\n",
        "CPU      |  dim_tx/dim_bx         | Calcula las dimensiones.\n",
        "**GPU**  |  kernel()              | Ejecuta el kernel en GPU.\n",
        "CPU      |  cuda.memcpy_dtoh( )   | Copia el resultado desde GPU memoria vf a CPU memoria acel.\n",
        "CPU      | numpy.mean(vf_cpu)     | Realiza el cálculo del promedio, guardando el valor en acelPromedio \n",
        "CPU      |  print()               | Informo los resultados."
      ]
    },
    {
      "cell_type": "markdown",
      "metadata": {
        "id": "3DirwcESfsqD"
      },
      "source": [
        "#5 Conclusiones\n",
        "\n",
        "Realicé la ejecución del cuaderno diez veces para el cálculo de una aceleración promedio para 1000 vehículos en 30 segundos. Obteniendo como resultado los siguientes valores:\n",
        "\n",
        "Tiempo GPU:  0.079 [ms] | Tiempo Total:  2.133 [ms] <br>\n",
        "Tiempo GPU:  0.102 [ms] | Tiempo Total:  2.370 [ms] <br>\n",
        "Tiempo GPU:  0.095 [ms] | Tiempo Total:  2.274 [ms] <br>\n",
        "Tiempo GPU:  0.128 [ms] | Tiempo Total:  3.654 [ms] <br>\n",
        "Tiempo GPU:  0.093 [ms] | Tiempo Total:  2.002 [ms] <br>\n",
        "Tiempo GPU:  0.074 [ms] | Tiempo Total:  1.895 [ms] <br>\n",
        "Tiempo GPU:  0.090 [ms] | Tiempo Total:  2.006 [ms] <br>\n",
        "Tiempo GPU:  0.098 [ms] | Tiempo Total:  2.435 [ms] <br>\n",
        "Tiempo GPU:  0.064 [ms] | Tiempo Total:  1.457 [ms] <br>\n",
        "Tiempo GPU:  0.086 [ms] | Tiempo Total:  2.310 [ms] <br>\n",
        "\n",
        "Podemos observar, que el tiempo de ejecución promedio del programa **[2.253 ms]** es mucho menor al obtenido sin utilizar GPU **[3.983 ms]**, esto se debe a que el cálculo de la aceleración de los cuerpos se calcula en simultáneo.\n",
        "\n",
        "El punto más relevante en este ejercicio es la utilización de la función Kernel, la cuál nos permite ejecutar el algoritmo en una dimensión utilizando hilos.\n",
        "\n",
        "En cuanto a lecciones aprendidas, comprendí el funcionamiento de hilos. <br>\n",
        "Como mejora, se podrían agregar gráficos ilustrativos de los resultados obtenidos."
      ]
    },
    {
      "cell_type": "markdown",
      "metadata": {
        "id": "oiZbYFA-fygS"
      },
      "source": [
        "#6 Bibliografía\n",
        "\n",
        "[1] Aceleracion: [Referencia](https://www.fisicalab.com/apartado/aceleracion)\n",
        "\n",
        "[2] Introducción a Python: [Página Colab](https://github.com/wvaliente/SOA_HPC/blob/main/Documentos/Python_Basico.ipynb) \n",
        "\n",
        "[3] Numpy: [Referencia](https://numpy.org/doc/1.16/reference/routines.random.html)\n",
        "\n",
        "[4] Sliders Parametros: [Referencia](https://colab.research.google.com/notebooks/forms.ipynb)\n",
        "\n",
        "[5] Documentación PyCUDA: [WEB](https://documen.tician.de/pycuda/index.html)\n",
        "\n",
        "[6] Repositorio de PyCUDA: [WEB](https://pypi.python.org/pypi/pycuda)"
      ]
    }
  ]
}