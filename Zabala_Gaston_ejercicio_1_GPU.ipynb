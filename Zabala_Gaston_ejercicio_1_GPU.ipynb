{
  "nbformat": 4,
  "nbformat_minor": 0,
  "metadata": {
    "colab": {
      "name": "Zabala_Gaston_ejercicio_1_GPU.ipynb",
      "provenance": [],
      "authorship_tag": "ABX9TyOOsT1St0TctDba1yYab041",
      "include_colab_link": true
    },
    "kernelspec": {
      "name": "python3",
      "display_name": "Python 3"
    },
    "accelerator": "GPU"
  },
  "cells": [
    {
      "cell_type": "markdown",
      "metadata": {
        "id": "view-in-github",
        "colab_type": "text"
      },
      "source": [
        "<a href=\"https://colab.research.google.com/github/ZabalaGaston/HPC/blob/main/Zabala_Gaston_ejercicio_1_GPU.ipynb\" target=\"_parent\"><img src=\"https://colab.research.google.com/assets/colab-badge.svg\" alt=\"Open In Colab\"/></a>"
      ]
    },
    {
      "cell_type": "markdown",
      "metadata": {
        "id": "QXhwEJBJfZbv"
      },
      "source": [
        "# 1 Introducción\n",
        "\n",
        "La aceleración es la tasa de variación de la velocidad de un objeto cuando se mueve. Si el objeto en cuestión mantiene su velocidad de forma constante, entonces no está acelerando, algo que sí hará cuando su velocidad cambia. La aceleración se mide en metros por segundo al cuadrado, y lo hace en base al tiempo que le lleva pasar de una velocidad a otra, o bien en una fuerza que se aplica sobre el objeto. [1]\n",
        "\n",
        "Se puede calcular la aceleración de un cuerpo mediante la siguiente fórmula:\n",
        "\n",
        "## <center>$\\frac{vf-vi}{tf-ti} = {a}$\n",
        "\n",
        "A continuación, calcularemos la aceleración de varios cuerpos utilizando GPU.\n"
      ]
    },
    {
      "cell_type": "markdown",
      "metadata": {
        "id": "Sy0yDrgTfgTq"
      },
      "source": [
        "#2 Armado del ambiente\n",
        "Instalar en el cuaderno el módulo CUDA de Python."
      ]
    },
    {
      "cell_type": "code",
      "metadata": {
        "id": "tyiI98dNjiH0",
        "colab": {
          "base_uri": "https://localhost:8080/"
        },
        "outputId": "18e7a8e7-8c25-4517-d251-e1ea247fe5c0"
      },
      "source": [
        "!pip install pycuda"
      ],
      "execution_count": 6,
      "outputs": [
        {
          "output_type": "stream",
          "text": [
            "Requirement already satisfied: pycuda in /usr/local/lib/python3.6/dist-packages (2020.1)\n",
            "Requirement already satisfied: mako in /usr/local/lib/python3.6/dist-packages (from pycuda) (1.1.3)\n",
            "Requirement already satisfied: decorator>=3.2.0 in /usr/local/lib/python3.6/dist-packages (from pycuda) (4.4.2)\n",
            "Requirement already satisfied: pytools>=2011.2 in /usr/local/lib/python3.6/dist-packages (from pycuda) (2020.4.3)\n",
            "Requirement already satisfied: appdirs>=1.4.0 in /usr/local/lib/python3.6/dist-packages (from pycuda) (1.4.4)\n",
            "Requirement already satisfied: MarkupSafe>=0.9.2 in /usr/local/lib/python3.6/dist-packages (from mako->pycuda) (1.1.1)\n",
            "Requirement already satisfied: dataclasses>=0.7; python_version <= \"3.6\" in /usr/local/lib/python3.6/dist-packages (from pytools>=2011.2->pycuda) (0.7)\n",
            "Requirement already satisfied: six>=1.8.0 in /usr/local/lib/python3.6/dist-packages (from pytools>=2011.2->pycuda) (1.15.0)\n",
            "Requirement already satisfied: numpy>=1.6.0 in /usr/local/lib/python3.6/dist-packages (from pytools>=2011.2->pycuda) (1.18.5)\n"
          ],
          "name": "stdout"
        }
      ]
    },
    {
      "cell_type": "markdown",
      "metadata": {
        "id": "WuNKk_olfjpa"
      },
      "source": [
        "#3 Desarrollo"
      ]
    },
    {
      "cell_type": "code",
      "metadata": {
        "id": "jpQdhl5pjvoc",
        "colab": {
          "base_uri": "https://localhost:8080/"
        },
        "outputId": "3c548586-8c8e-4802-b085-919237bce1d8"
      },
      "source": [
        "# --------------------------------------------\n",
        "#@title 3.1 Parámetros de ejecución { vertical-output: true }\n",
        "\n",
        "cantidadVehiculos =   0#@param {type: \"integer\", min:0}\n",
        "tiempoSegundos =   29 #@param {type:\"slider\", min:0, max:100, step:1}\n",
        "\n",
        "# --------------------------------------------\n",
        "\n",
        "from datetime import datetime\n",
        "import pycuda.driver as cuda\n",
        "import pycuda.autoinit\n",
        "from pycuda.compiler import SourceModule\n",
        "import numpy\n",
        "\n",
        "#Defino variables\n",
        "acelTotal_cpu = 0\n",
        "vMax = 120 # [m/s]\n",
        "\n",
        "tiempo_total = datetime.now()\n",
        "\n",
        "# --------------------------------------------\n",
        "# Definición de función que transforma el tiempo en  milisegundos \n",
        "tiempo_en_ms = lambda dt:(dt.days * 24 * 60 * 60 + dt.seconds) * 1000 + dt.microseconds / 1000.0\n",
        "\n",
        "try: \n",
        "\n",
        "  if cantidadVehiculos <= 0:\n",
        "    raise ValueError(\"La cantidad de vehículos debe ser mayor a 0\");\n",
        "\n",
        "  if tiempoSegundos == 0:\n",
        "    raise ValueError(\"El tiempo debe ser mayor a cero\");\n",
        "\n",
        "  # --------------------------------------------\n",
        "  # CPU - Defino la memoria de los vectores en cpu.\n",
        "  vi_cpu = numpy.random.randint(vMax, size=cantidadVehiculos)\n",
        "  vi_cpu = vi_cpu.astype( numpy.float32() )\n",
        "\n",
        "  vf_cpu = numpy.random.randint(vMax, size=cantidadVehiculos)\n",
        "  vf_cpu = vf_cpu.astype( numpy.float32() )\n",
        "  acel_cpu = numpy.empty_like( vf_cpu )\n",
        "\n",
        "  # CPU - reservo la memoria GPU.\n",
        "  vf_gpu = cuda.mem_alloc( vf_cpu.nbytes )\n",
        "  vi_gpu = cuda.mem_alloc( vi_cpu.nbytes )\n",
        "\n",
        "  # GPU - Copio la memoria al GPU.\n",
        "  cuda.memcpy_htod( vf_gpu, vf_cpu )\n",
        "  cuda.memcpy_htod( vi_gpu, vi_cpu )\n",
        "\n",
        "  # CPU - Defino la función kernel que ejecutará en GPU.\n",
        "  module = SourceModule(\"\"\"\n",
        "  __global__ void kernel_acel( int n, float time, float *vf, float *vi)\n",
        "  {\n",
        "    int idx = threadIdx.x + blockIdx.x*blockDim.x;\n",
        "    if( idx < n )\n",
        "    {\n",
        "      vf[idx] = (vf[idx] - vi[idx])/time;\n",
        "    }\n",
        "  }\n",
        "  \"\"\") \n",
        "\n",
        "  # CPU - Genero la función kernel.\n",
        "  kernel = module.get_function(\"kernel_acel\")\n",
        "\n",
        "  tiempo_gpu = datetime.now()\n",
        "\n",
        "  # GPU - Ejecuta el kernel.\n",
        "  dim_hilo = 256\n",
        "  dim_bloque = numpy.int( (cantidadVehiculos+dim_hilo-1) / dim_hilo )\n",
        "\n",
        "  kernel(numpy.int32(cantidadVehiculos),numpy.float32(tiempoSegundos), vf_gpu, vi_gpu, block=( dim_hilo, 1, 1 ),grid=(dim_bloque, 1,1) )\n",
        "  tiempo_gpu = datetime.now() - tiempo_gpu\n",
        "\n",
        "  # GPU - Copio el resultado desde la memoria GPU.\n",
        "  cuda.memcpy_dtoh( acel_cpu, vf_gpu )\n",
        "\n",
        "  acelPromedio = numpy.mean(acel_cpu) \n",
        "  tiempo_total = datetime.now() - tiempo_total\n",
        "\n",
        "  print( \"Cantidad de elementos: \", cantidadVehiculos )\n",
        "  print( \"Thread x: \", dim_hilo, \", Bloque x:\", dim_bloque )\n",
        "  print(\"Tiempo GPU: \", tiempo_en_ms( tiempo_gpu   ), \"[ms]\" )\n",
        "  print(\"Tiempo Total: \", tiempo_en_ms( tiempo_total ), \"[ms]\" )\n",
        "  print(\"Aceleración promedio: \", acelPromedio, \"[m/s2]\" )\n",
        "\n",
        "except ValueError as valerr:\n",
        "  print (valerr)\n",
        "except Exception as e:\n",
        "  print(\"Error:\",e.args)\n",
        "                       "
      ],
      "execution_count": 8,
      "outputs": [
        {
          "output_type": "stream",
          "text": [
            "La cantidad de vehículos debe ser mayor a 0\n"
          ],
          "name": "stdout"
        }
      ]
    },
    {
      "cell_type": "markdown",
      "metadata": {
        "id": "60IYMc-MfmHS"
      },
      "source": [
        "#4 Tabla de pasos\n",
        "\n",
        " Procesador | Función | Detalle\n",
        "------------|---------|----------\n",
        "CPU      |  @param                | Lectura del tamaño de vectores desde Colab.\n",
        "CPU      |  @param                | Lectura del tiempo.\n",
        "CPU      |  import                | Importa los módulos para funcionar.\n",
        "CPU      |  datetime.now()        | Toma el tiempo actual.\n",
        "CPU      |  numpy.random.randn( Cantidad_N ) | Inicializa los vectoes vf, vi y acel.\n",
        "**GPU**  |  cuda.mem_alloc()      | Reserva la memoria en GPU.\n",
        "**GPU**  |  cuda.memcpy_htod()    | Copia las memorias desde el CPU al GPU.\n",
        "CPU      |  SourceModule()        | Define el código del kernel \n",
        "CPU      |  module.get_function() | Genera la función del kernel GPU\n",
        "CPU      |  dim_tx/dim_bx         | Calcula las dimensiones.\n",
        "**GPU**  |  kernel()              | Ejecuta el kernel en GPU.\n",
        "CPU      |  cuda.memcpy_dtoh( )   | Copia el resultado desde GPU memoria vf a CPU memoria acel.\n",
        "CPU      | numpy.mean(vf_cpu)     | Realiza el cálculo del promedio, guardando el valor en acelPromedio \n",
        "CPU      |  print()               | Informo los resultados."
      ]
    },
    {
      "cell_type": "markdown",
      "metadata": {
        "id": "3DirwcESfsqD"
      },
      "source": [
        "#5 Conclusiones\n",
        "\n",
        "Realicé la ejecución del cuaderno diez veces para el cálculo de una aceleración promedio para 1000 vehículos en 30 segundos. Obteniendo como resultado los siguientes valores:\n",
        "\n",
        "Tiempo GPU:  0.079 [ms] | Tiempo Total:  2.133 [ms] <br>\n",
        "Tiempo GPU:  0.102 [ms] | Tiempo Total:  2.370 [ms] <br>\n",
        "Tiempo GPU:  0.095 [ms] | Tiempo Total:  2.274 [ms] <br>\n",
        "Tiempo GPU:  0.128 [ms] | Tiempo Total:  3.654 [ms] <br>\n",
        "Tiempo GPU:  0.093 [ms] | Tiempo Total:  2.002 [ms] <br>\n",
        "Tiempo GPU:  0.074 [ms] | Tiempo Total:  1.895 [ms] <br>\n",
        "Tiempo GPU:  0.090 [ms] | Tiempo Total:  2.006 [ms] <br>\n",
        "Tiempo GPU:  0.098 [ms] | Tiempo Total:  2.435 [ms] <br>\n",
        "Tiempo GPU:  0.064 [ms] | Tiempo Total:  1.457 [ms] <br>\n",
        "Tiempo GPU:  0.086 [ms] | Tiempo Total:  2.310 [ms] <br>\n",
        "\n",
        "Podemos observar, que el tiempo de ejecución promedio del programa **[2.253 ms]** es mucho menor al obtenido sin utilizar GPU **[3.983 ms]**, esto se debe a que el cálculo de la aceleración de los cuerpos se calcula en simultáneo.\n",
        "\n",
        "El punto más relevante en este ejercicio es la utilización de la función Kernel, la cuál nos permite ejecutar el algoritmo en una dimensión utilizando hilos.\n",
        "\n",
        "En cuanto a lecciones aprendidas, comprendí el funcionamiento de hilos. <br>\n",
        "Como mejora, se podrían agregar gráficos ilustrativos de los resultados obtenidos."
      ]
    },
    {
      "cell_type": "markdown",
      "metadata": {
        "id": "oiZbYFA-fygS"
      },
      "source": [
        "#6 Bibliografía\n",
        "\n",
        "[1] Aceleracion: [Referencia](https://www.fisicalab.com/apartado/aceleracion)\n",
        "\n",
        "[2] Introducción a Python: [Página Colab](https://github.com/wvaliente/SOA_HPC/blob/main/Documentos/Python_Basico.ipynb) \n",
        "\n",
        "[3] Numpy: [Referencia](https://numpy.org/doc/1.16/reference/routines.random.html)\n",
        "\n",
        "[4] Sliders Parametros: [Referencia](https://colab.research.google.com/notebooks/forms.ipynb)\n",
        "\n",
        "[5] Documentación PyCUDA: [WEB](https://documen.tician.de/pycuda/index.html)\n",
        "\n",
        "[6] Repositorio de PyCUDA: [WEB](https://pypi.python.org/pypi/pycuda)"
      ]
    }
  ]
}