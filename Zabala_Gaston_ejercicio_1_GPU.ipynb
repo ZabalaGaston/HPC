{
  "nbformat": 4,
  "nbformat_minor": 0,
  "metadata": {
    "colab": {
      "name": "Zabala_Gaston_ejercicio_1_GPU.ipynb",
      "provenance": [],
      "authorship_tag": "ABX9TyOhU6Ma/EE0jrCQrG8uox/c",
      "include_colab_link": true
    },
    "kernelspec": {
      "name": "python3",
      "display_name": "Python 3"
    },
    "accelerator": "GPU"
  },
  "cells": [
    {
      "cell_type": "markdown",
      "metadata": {
        "id": "view-in-github",
        "colab_type": "text"
      },
      "source": [
        "<a href=\"https://colab.research.google.com/github/ZabalaGaston/HPC/blob/main/Zabala_Gaston_ejercicio_1_GPU.ipynb\" target=\"_parent\"><img src=\"https://colab.research.google.com/assets/colab-badge.svg\" alt=\"Open In Colab\"/></a>"
      ]
    },
    {
      "cell_type": "markdown",
      "metadata": {
        "id": "QXhwEJBJfZbv"
      },
      "source": [
        "#1 Introducción\n",
        "\n",
        "Según la mecánica newtoniana, una partícula no puede seguir una trayectoria curva a menos que sobre ella actúe una cierta aceleración como consecuencia de la acción de una fuerza, ya que si esta no existiese, su movimiento sería rectilíneo. Asimismo, una partícula en movimiento rectilíneo solo puede cambiar su velocidad bajo la acción de una aceleración en la misma dirección de su velocidad (dirigida en el mismo sentido si acelera; o en sentido contrario si desacelera). \n",
        "\n",
        "En mecánica clásica se define la aceleración como la variación de la velocidad respecto al tiempo (común a todos los observadores)\n",
        "\n",
        ">$\\frac{vf-vi}{tf-ti} = {a}$"
      ]
    },
    {
      "cell_type": "markdown",
      "metadata": {
        "id": "Sy0yDrgTfgTq"
      },
      "source": [
        "#2 Armado del ambiente\n",
        "Instala en el cuaderno el módulo CUDA de Python."
      ]
    },
    {
      "cell_type": "code",
      "metadata": {
        "id": "tyiI98dNjiH0",
        "outputId": "6b34870c-9541-424e-aa5e-cf035b90c2a0",
        "colab": {
          "base_uri": "https://localhost:8080/"
        }
      },
      "source": [
        "!pip install pycuda"
      ],
      "execution_count": null,
      "outputs": [
        {
          "output_type": "stream",
          "text": [
            "Collecting pycuda\n",
            "\u001b[?25l  Downloading https://files.pythonhosted.org/packages/46/61/47d3235a4c13eec5a5f03594ddb268f4858734e02980afbcd806e6242fa5/pycuda-2020.1.tar.gz (1.6MB)\n",
            "\u001b[K     |████████████████████████████████| 1.6MB 6.0MB/s \n",
            "\u001b[?25hCollecting pytools>=2011.2\n",
            "\u001b[?25l  Downloading https://files.pythonhosted.org/packages/b7/30/c9362a282ef89106768cba9d884f4b2e4f5dc6881d0c19b478d2a710b82b/pytools-2020.4.3.tar.gz (62kB)\n",
            "\u001b[K     |████████████████████████████████| 71kB 11.0MB/s \n",
            "\u001b[?25hRequirement already satisfied: decorator>=3.2.0 in /usr/local/lib/python3.6/dist-packages (from pycuda) (4.4.2)\n",
            "Collecting appdirs>=1.4.0\n",
            "  Downloading https://files.pythonhosted.org/packages/3b/00/2344469e2084fb287c2e0b57b72910309874c3245463acd6cf5e3db69324/appdirs-1.4.4-py2.py3-none-any.whl\n",
            "Collecting mako\n",
            "\u001b[?25l  Downloading https://files.pythonhosted.org/packages/a6/37/0e706200d22172eb8fa17d68a7ae22dec7631a0a92266634fb518a88a5b2/Mako-1.1.3-py2.py3-none-any.whl (75kB)\n",
            "\u001b[K     |████████████████████████████████| 81kB 11.7MB/s \n",
            "\u001b[?25hRequirement already satisfied: six>=1.8.0 in /usr/local/lib/python3.6/dist-packages (from pytools>=2011.2->pycuda) (1.15.0)\n",
            "Requirement already satisfied: numpy>=1.6.0 in /usr/local/lib/python3.6/dist-packages (from pytools>=2011.2->pycuda) (1.18.5)\n",
            "Requirement already satisfied: dataclasses>=0.7 in /usr/local/lib/python3.6/dist-packages (from pytools>=2011.2->pycuda) (0.7)\n",
            "Requirement already satisfied: MarkupSafe>=0.9.2 in /usr/local/lib/python3.6/dist-packages (from mako->pycuda) (1.1.1)\n",
            "Building wheels for collected packages: pycuda, pytools\n",
            "  Building wheel for pycuda (setup.py) ... \u001b[?25l\u001b[?25hdone\n",
            "  Created wheel for pycuda: filename=pycuda-2020.1-cp36-cp36m-linux_x86_64.whl size=621010 sha256=bd061fa1c57dca5814fdf002116dc1c481d4aadeaf97b63b6bcb3647f1b724cd\n",
            "  Stored in directory: /root/.cache/pip/wheels/8f/78/d1/5bb826f81d9d490297a348d818ff3ee6dd6f2075b06dde6ea0\n",
            "  Building wheel for pytools (setup.py) ... \u001b[?25l\u001b[?25hdone\n",
            "  Created wheel for pytools: filename=pytools-2020.4.3-py2.py3-none-any.whl size=61374 sha256=d2e06de046a22de5b9d7976ca979119d7f24a6fddae918230060289ab6d1e06f\n",
            "  Stored in directory: /root/.cache/pip/wheels/af/c7/81/a22edb90b0b09a880468b2253bb1df8e9f503337ee15432c64\n",
            "Successfully built pycuda pytools\n",
            "Installing collected packages: appdirs, pytools, mako, pycuda\n",
            "Successfully installed appdirs-1.4.4 mako-1.1.3 pycuda-2020.1 pytools-2020.4.3\n"
          ],
          "name": "stdout"
        }
      ]
    },
    {
      "cell_type": "markdown",
      "metadata": {
        "id": "WuNKk_olfjpa"
      },
      "source": [
        "#3 Desarrollo"
      ]
    },
    {
      "cell_type": "code",
      "metadata": {
        "id": "jpQdhl5pjvoc",
        "outputId": "241c4939-4428-443c-f416-feffd642e762",
        "colab": {
          "base_uri": "https://localhost:8080/"
        }
      },
      "source": [
        "# --------------------------------------------\n",
        "#@title 3.1 Parámetros de ejecución { vertical-output: true }\n",
        "\n",
        "cantidadVehiculos =   3#@param {type: \"integer\", min:0}\n",
        "tiempoSegundos =   3 #@param {type:\"slider\", min:0, max:100, step:1}\n",
        "\n",
        "# --------------------------------------------\n",
        "\n",
        "if cantidadVehiculos < 0:\n",
        "  raise ValueError(\"La cantidad de vehículos debe ser mayor a 0\");\n",
        "\n",
        "if tiempoSegundos == 0:\n",
        "  raise ValueError(\"El tiempo debe ser mayor a cero\");\n",
        "\n",
        "from datetime import datetime\n",
        "import pycuda.driver as cuda\n",
        "import pycuda.autoinit\n",
        "from pycuda.compiler import SourceModule\n",
        "import numpy\n",
        "\n",
        "tiempo_total = datetime.now()\n",
        "\n",
        "# --------------------------------------------\n",
        "# Definición de función que transforma el tiempo en  milisegundos \n",
        "tiempo_en_ms = lambda dt:(dt.days * 24 * 60 * 60 + dt.seconds) * 1000 + dt.microseconds / 1000.0\n",
        "\n",
        "#Defino variables\n",
        "acelTotal_cpu = 0\n",
        "vMax = 120 # [m/s]\n",
        "\n",
        "# --------------------------------------------\n",
        "# CPU - Defino la memoria de los vectores en cpu.\n",
        "\n",
        "vi_cpu = numpy.random.randint(vMax, size=cantidadVehiculos)\n",
        "vi_cpu = vi_cpu.astype( numpy.float32() )\n",
        "\n",
        "vf_cpu = numpy.random.randint(vMax, size=cantidadVehiculos)\n",
        "vf_cpu = vf_cpu.astype( numpy.float32() )\n",
        "acel_cpu = numpy.empty_like( vf_cpu )\n",
        "\n",
        "# CPU - reservo la memoria GPU.\n",
        "vf_gpu = cuda.mem_alloc( vf_cpu.nbytes )\n",
        "vi_gpu = cuda.mem_alloc( vi_cpu.nbytes )\n",
        "\n",
        "# GPU - Copio la memoria al GPU.\n",
        "cuda.memcpy_htod( vf_gpu, vf_cpu )\n",
        "cuda.memcpy_htod( vi_gpu, vi_cpu )\n",
        "\n",
        "# CPU - Defino la función kernel que ejecutará en GPU.\n",
        "module = SourceModule(\"\"\"\n",
        "__global__ void kernel_acel( int n, float time, float *vf, float *vi)\n",
        "{\n",
        "  int idx = threadIdx.x + blockIdx.x*blockDim.x;\n",
        "  if( idx < n )\n",
        "  {\n",
        "    vf[idx] = (vf[idx] - vi[idx])/time;\n",
        "  }\n",
        "}\n",
        "\"\"\") \n",
        "\n",
        "# CPU - Genero la función kernel.\n",
        "kernel = module.get_function(\"kernel_acel\")\n",
        "\n",
        "tiempo_gpu = datetime.now()\n",
        "\n",
        "# GPU - Ejecuta el kernel.\n",
        "dim_hilo = 256\n",
        "dim_bloque = numpy.int( (cantidadVehiculos+dim_hilo-1) / dim_hilo )\n",
        "\n",
        "kernel(numpy.int32(cantidadVehiculos),numpy.float32(tiempoSegundos), vf_gpu, vi_gpu, block=( dim_hilo, 1, 1 ),grid=(dim_bloque, 1,1) )\n",
        "tiempo_gpu = datetime.now() - tiempo_gpu\n",
        "\n",
        "# GPU - Copio el resultado desde la memoria GPU.\n",
        "cuda.memcpy_dtoh( acel_cpu, vf_gpu )\n",
        "\n",
        "try: \n",
        "  acelPromedio = numpy.mean(acel_cpu) \n",
        "\n",
        "  tiempo_total = datetime.now() - tiempo_total\n",
        "\n",
        "  print( \"Cantidad de elementos: \", cantidadVehiculos )\n",
        "  print( \"Thread x: \", dim_hilo, \", Bloque x:\", dim_bloque )\n",
        "  print(\"Tiempo CPU: \", tiempo_en_ms( tiempo_total ), \"[ms]\" )\n",
        "  print(\"Tiempo GPU: \", tiempo_en_ms( tiempo_gpu   ), \"[ms]\" )\n",
        "  print(\"Aceleración promedio: \", acelPromedio, \"[m/s2]\" )\n",
        "\n",
        "except ValueError as valerr:\n",
        "  print (valerr)\n",
        "                       "
      ],
      "execution_count": 13,
      "outputs": [
        {
          "output_type": "stream",
          "text": [
            "Cantidad de elementos:  3\n",
            "Thread x:  256 , Bloque x: 1\n",
            "Tiempo CPU:  2.981 [ms]\n",
            "Tiempo GPU:  0.236 [ms]\n",
            "Aceleración promedio:  19.444445 [m/s2]\n"
          ],
          "name": "stdout"
        }
      ]
    },
    {
      "cell_type": "markdown",
      "metadata": {
        "id": "60IYMc-MfmHS"
      },
      "source": [
        "#4 Tabla de pasos\n",
        "\n",
        " Procesador | Función | Detalle\n",
        "------------|---------|----------\n",
        "CPU      |  @param                | Lectura del tamaño de vectores desde Colab.\n",
        "CPU      |  @param                | Lectura del tiempo.\n",
        "CPU      |  import                | Importa los módulos para funcionar.\n",
        "CPU      |  datetime.now()        | Toma el tiempo actual.\n",
        "CPU      |  numpy.random.randn( Cantidad_N ) | Inicializa los vectoes vf, vi y acel.\n",
        "**GPU**  |  cuda.mem_alloc()      | Reserva la memoria en GPU.\n",
        "**GPU**  |  cuda.memcpy_htod()    | Copia las memorias desde el CPU al GPU.\n",
        "CPU      |  SourceModule()        | Define el código del kernel \n",
        "CPU      |  module.get_function() | Genera la función del kernel GPU\n",
        "CPU      |  dim_tx/dim_bx         | Calcula las dimensiones.\n",
        "**GPU**  |  kernel()              | Ejecuta el kernel en GPU.\n",
        "CPU      |  cuda.memcpy_dtoh( )   | Copia el resultado desde GPU memoria vf a CPU memoria acel.\n",
        "CPU      | numpy.mean(vf_cpu)     | Realiza el cálculo del promedio, guardando el valor en acelPromedio \n",
        "CPU      |  print()               | Informo los resultados."
      ]
    },
    {
      "cell_type": "markdown",
      "metadata": {
        "id": "3DirwcESfsqD"
      },
      "source": [
        "#5 Conclusiones\n"
      ]
    },
    {
      "cell_type": "markdown",
      "metadata": {
        "id": "oiZbYFA-fygS"
      },
      "source": [
        "#6 Bibliografía\n",
        "\n",
        "[1] Aceleracion: [Referencia](https://www.fisicalab.com/apartado/aceleracion)\n",
        "\n",
        "[2] Introducción a Python: [Página Colab](https://github.com/wvaliente/SOA_HPC/blob/main/Documentos/Python_Basico.ipynb) \n",
        "\n",
        "[3] Numpy: [Referencia](https://numpy.org/doc/1.16/reference/routines.random.html)\n",
        "\n",
        "[4] Sliders Parametros: [Referencia](https://colab.research.google.com/notebooks/forms.ipynb)\n",
        "\n",
        "[5] Documentación PyCUDA: [WEB](https://documen.tician.de/pycuda/index.html)\n",
        "\n",
        "[6] Repositorio de PyCUDA: [WEB](https://pypi.python.org/pypi/pycuda)"
      ]
    }
  ]
}