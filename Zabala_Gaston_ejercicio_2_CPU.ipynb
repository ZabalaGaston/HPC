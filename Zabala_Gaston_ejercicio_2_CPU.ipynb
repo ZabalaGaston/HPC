{
  "nbformat": 4,
  "nbformat_minor": 0,
  "metadata": {
    "colab": {
      "name": "Zabala_Gaston_ejercicio_2_CPU.ipynb",
      "provenance": [],
      "include_colab_link": true
    },
    "kernelspec": {
      "name": "python3",
      "display_name": "Python 3"
    }
  },
  "cells": [
    {
      "cell_type": "markdown",
      "metadata": {
        "id": "view-in-github",
        "colab_type": "text"
      },
      "source": [
        "<a href=\"https://colab.research.google.com/github/ZabalaGaston/HPC/blob/main/Zabala_Gaston_ejercicio_2_CPU.ipynb\" target=\"_parent\"><img src=\"https://colab.research.google.com/assets/colab-badge.svg\" alt=\"Open In Colab\"/></a>"
      ]
    },
    {
      "cell_type": "markdown",
      "metadata": {
        "id": "w5AWBVqlwzj3"
      },
      "source": [
        "#1 Introducción\n",
        "\n",
        "Una matriz traspuesta es el resultado de reordenar la matriz original mediantel cambio de filas por columnas y las columnas por filas en una nueva matriz. [3][2]\n",
        "\n",
        "\n",
        "\n",
        "<center>(A^t){ij}=A{ji},1 <= m, 1 <= j <= n </center> \n",
        "\n",
        "En este cuaderno, dejaré plasmado el algoritmo para trasponer una matriz cuadrada."
      ]
    },
    {
      "cell_type": "markdown",
      "metadata": {
        "id": "d10LurBTxBfY"
      },
      "source": [
        "#2 Armado del ambiente\n",
        "\n",
        "No son necesarios ejecuciones previas del armado del ambiente."
      ]
    },
    {
      "cell_type": "markdown",
      "metadata": {
        "id": "EHnae5Y8xGWY"
      },
      "source": [
        "#3 Desarrollo\n",
        "\n",
        "Ejecución del algoritmo para trasponer una matriz."
      ]
    },
    {
      "cell_type": "code",
      "metadata": {
        "colab": {
          "base_uri": "https://localhost:8080/"
        },
        "id": "MvN8xEhatzP5",
        "outputId": "bd0acf41-547a-48d8-cbad-92ad6b19e3a5"
      },
      "source": [
        "#@title 3.1 Parámetros de ejecución { vertical-output: true }\n",
        "#@title 3.1.1 Ingrese el orden { vertical-output: true }\n",
        "\n",
        "ordenMatriz =   1 #@param {type:\"slider\", min:1, max:100, step:1}\n",
        "\n",
        "# --------------------------------------------\n",
        "from datetime import datetime\n",
        "tiempo_total = datetime.now()\n",
        "import numpy as np\n",
        "\n",
        "# --------------------------------------------\n",
        "# Definición de función que transforma el tiempo en  milisegundos \n",
        "tiempo_en_ms = lambda dt:(dt.days * 24 * 60 * 60 + dt.seconds) * 1000 + dt.microseconds / 1000.0\n",
        "\n",
        "def crearMatriz(orden):\n",
        "  m = np.random.randint(100, 1000, (ordenMatriz, ordenMatriz))\n",
        "  return m.astype( np.float32())\n",
        "\n",
        "def trasponerMatriz(mo,mt):\n",
        "  on = len(mo) #filas\n",
        "  for i in range(on):\n",
        "    for j in range(on):\n",
        "      mt[i][j] = mo[j][i]\n",
        "\n",
        "# --------------------------------------------\n",
        "# CPU - Defino la memoria de los vectores en cpu.\n",
        "\n",
        "matriz = crearMatriz(ordenMatriz)\n",
        "matrizTraspuesta = crearMatriz(ordenMatriz)\n",
        "\n",
        "try:\n",
        "    \n",
        "  tiempo_traspuesta = datetime.now()\n",
        "\n",
        "# CPU - Llamo a la función trasponerMatriz - Función principal\n",
        "\n",
        "  trasponerMatriz(matriz,matrizTraspuesta)\n",
        "\n",
        "  tiempo_traspuesta = datetime.now() - tiempo_traspuesta\n",
        "  \n",
        "# --------------------------------------------\n",
        "\n",
        "  tiempo_total = datetime.now() - tiempo_total\n",
        "\n",
        "  print(\"Tiempo Total: \", tiempo_en_ms( tiempo_total ), \"[ms]\" )\n",
        "  print(\"Tiempo bucle: \", tiempo_en_ms( tiempo_traspuesta ), \"[ms]\" )\n",
        "\n",
        "  print(\"Matriz original\\n\", matriz)\n",
        "  print(\"\\nMatriz traspuesta\\n\",matrizTraspuesta)\n",
        "\n",
        "except IndexError:\n",
        "  print(\"Error:\",\"La matriz debe tener un orden mayor a 1\")\n",
        "except Exception as e: \n",
        "  print(e.args)"
      ],
      "execution_count": 3,
      "outputs": [
        {
          "output_type": "stream",
          "text": [
            "Tiempo Total:  0.707 [ms]\n",
            "Tiempo bucle:  0.069 [ms]\n",
            "Matriz original\n",
            " [[136. 666. 132.]\n",
            " [227. 887. 741.]\n",
            " [903. 271. 196.]]\n",
            "\n",
            "Matriz traspuesta\n",
            " [[136. 227. 903.]\n",
            " [666. 887. 271.]\n",
            " [132. 741. 196.]]\n"
          ],
          "name": "stdout"
        }
      ]
    },
    {
      "cell_type": "markdown",
      "metadata": {
        "id": "8KUWUtzfGO-A"
      },
      "source": [
        "#Tabla de pasos de ejecución del programa\n",
        "\n",
        "Procesador | Función | Detalle\n",
        "------------|---------|----------\n",
        "CPU      |  @param                | Ingresar el orden de la matriz.\n",
        "CPU      |  import                | Importar los módulos para funcionar.\n",
        "CPU      |  datetime.now()        | Tomar el tiempo actual.\n",
        "CPU      |  crearMatriz()         | Crear y cargar valores a la matriz original.\n",
        "CPU      |  crearMatriz()         | Crear matriz traspuesta (matrizTraspuesta).\n",
        "CPU      |  datetime.now()        | Tomar el tiempo actual.\n",
        "CPU      |  trasponerMatriz()     | Trasponer la matriz original.\n",
        "CPU      | datetime.now() - tiempo_traspuesta | Calcular tiempo total en trasponerMatriz.\n",
        "CPU      |  datetime.now() - tiempo_total | Calcular el tiempo total.\n",
        "CPU      |  tiempo_en_ms( time ) | Transformar tiempos en milisegundos.\n",
        "CPU      |  print()               | Mostrar estadísticas.\n",
        "CPU      |  print()            | Mostrar matriz original y matriz traspuesta.\n"
      ]
    },
    {
      "cell_type": "markdown",
      "metadata": {
        "id": "h-sd6NB7ujWY"
      },
      "source": [
        "---\n",
        "# 5 Conclusiones\n",
        "\n",
        "Realicé la ejecución 7 veces para una matriz cuadrada de 100 x 100, obteniendo los siguientes resultados:\n",
        "\n",
        "Tiempo Total:  11.009 [ms] | Tiempo bucle:  8.326 [ms] <br>\n",
        "Tiempo Total:  07.102 [ms] | Tiempo bucle:  6.422 [ms] <br>\n",
        "Tiempo Total:  06.268 [ms] | Tiempo bucle:  5.544 [ms] <br>\n",
        "Tiempo Total:  11.561 [ms] | Tiempo bucle:  10.414 [ms] <br>\n",
        "Tiempo Total:  07.667 [ms] | Tiempo bucle:  6.723 [ms] <br>\n",
        "Tiempo Total:  06.043 [ms] | Tiempo bucle:  5.383 [ms] <br>\n",
        "Tiempo Total:  10.898 [ms] | Tiempo bucle:  9.766 [ms] <br>\n",
        "\n",
        "Podemos observar, que los tiempos de ejecución promedio  del programa [8.649 ms] son muchos **mayores** a los obtenidos utilizando GPU [2,299 ms]; esto se debe a que la matriz se va recorriendo de un par a la vez."
      ]
    },
    {
      "cell_type": "markdown",
      "metadata": {
        "id": "TLdIwXvNGZW7"
      },
      "source": [
        "---\n",
        "# 6 Bibliografía\n",
        "\n",
        "[1] Tutorial Point Colab: [PDF](https://github.com/wvaliente/SOA_HPC/blob/main/Documentos/markdown-cheatsheet-online.pdf)\n",
        "\n",
        "[2] Matriz traspuesta: [Enlace](https://es.wikipedia.org/wiki/Matriz_transpuesta)\n",
        "\n",
        "[3] Traspuesta: [Enlace](https://economipedia.com/definiciones/matriz-traspuesta.html#:~:text=Una%20matriz%20traspuesta%20es%20el,filas%20en%20una%20nueva%20matriz)"
      ]
    }
  ]
}