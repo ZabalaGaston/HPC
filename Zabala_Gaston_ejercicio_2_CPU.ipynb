{
  "nbformat": 4,
  "nbformat_minor": 0,
  "metadata": {
    "colab": {
      "name": "Zabala_Gaston_ejercicio_2_CPU.ipynb",
      "provenance": [],
      "authorship_tag": "ABX9TyMmOxg9aDNevvRf8SQXeeNL",
      "include_colab_link": true
    },
    "kernelspec": {
      "name": "python3",
      "display_name": "Python 3"
    }
  },
  "cells": [
    {
      "cell_type": "markdown",
      "metadata": {
        "id": "view-in-github",
        "colab_type": "text"
      },
      "source": [
        "<a href=\"https://colab.research.google.com/github/ZabalaGaston/HPC/blob/main/Zabala_Gaston_ejercicio_2_CPU.ipynb\" target=\"_parent\"><img src=\"https://colab.research.google.com/assets/colab-badge.svg\" alt=\"Open In Colab\"/></a>"
      ]
    },
    {
      "cell_type": "markdown",
      "metadata": {
        "id": "w5AWBVqlwzj3"
      },
      "source": [
        "#1 Introducción\n",
        "\n",
        "Trasponer una matriz cuadrada [1]\n",
        "\n",
        "<center>(A^t){ij}=A{ji},1 <= m, 1 <= j <= n </center>"
      ]
    },
    {
      "cell_type": "markdown",
      "metadata": {
        "id": "d10LurBTxBfY"
      },
      "source": [
        "#2 Armado del ambiente\n",
        "\n",
        "No son necesarios ejecuciones previas del armado del ambiente."
      ]
    },
    {
      "cell_type": "markdown",
      "metadata": {
        "id": "EHnae5Y8xGWY"
      },
      "source": [
        "#3 Desarrollo"
      ]
    },
    {
      "cell_type": "code",
      "metadata": {
        "colab": {
          "base_uri": "https://localhost:8080/"
        },
        "id": "MvN8xEhatzP5",
        "outputId": "0c6359cc-37e9-4201-dea3-820741b03ddd"
      },
      "source": [
        "#@title 3.1 Parámetros de ejecución { vertical-output: true }\n",
        "#@title 3.1.1 Ingrese el orden { vertical-output: true }\n",
        "\n",
        "ordenMatriz =   43 #@param {type:\"slider\", min:0, max:100, step:1}\n",
        "\n",
        "# --------------------------------------------\n",
        "from datetime import datetime\n",
        "tiempo_total = datetime.now()\n",
        "import numpy as np\n",
        "\n",
        "# --------------------------------------------\n",
        "# Definición de función que transforma el tiempo en  milisegundos \n",
        "tiempo_en_ms = lambda dt:(dt.days * 24 * 60 * 60 + dt.seconds) * 1000 + dt.microseconds / 1000.0\n",
        "\n",
        "def crearMatriz(orden):\n",
        "  m = np.random.randint(100, 1000, (ordenMatriz, ordenMatriz))\n",
        "  return m.astype( np.float32())\n",
        "\n",
        "def trasponerMatriz(mo,mt):\n",
        "  on = len(mo) #filas\n",
        "  for i in range(on):\n",
        "    for j in range(on):\n",
        "      mt[i][j] = mo[j][i]\n",
        "\n",
        "# --------------------------------------------\n",
        "# CPU - Defino la memoria de los vectores en cpu.\n",
        "\n",
        "matriz = crearMatriz(ordenMatriz)\n",
        "matrizTraspuesta = crearMatriz(ordenMatriz)\n",
        "\n",
        "try:\n",
        "    \n",
        "  tiempo_traspuesta = datetime.now()\n",
        "\n",
        "# CPU - Llamo a la función trasponerMatriz - Función principal\n",
        "\n",
        "  trasponerMatriz(matriz,matrizTraspuesta)\n",
        "\n",
        "  tiempo_traspuesta = datetime.now() - tiempo_traspuesta\n",
        "  \n",
        "# --------------------------------------------\n",
        "\n",
        "  tiempo_total = datetime.now() - tiempo_total\n",
        "\n",
        "  print(\"Tiempo Total: \", tiempo_en_ms( tiempo_total ), \"[ms]\" )\n",
        "  print(\"Tiempo bucle: \", tiempo_en_ms( tiempo_traspuesta ), \"[ms]\" )\n",
        "\n",
        "  print(\"Matriz original\\n\", matriz)\n",
        "  print(\"\\nMatriz traspuesta\\n\",matrizTraspuesta)\n",
        "\n",
        "except Exception as IndexError:\n",
        "  print(\"Error:\",\"La matriz debe tener un orden mayor a 1\")\n",
        "except Exception as e: \n",
        "  print(e.args)"
      ],
      "execution_count": null,
      "outputs": [
        {
          "output_type": "stream",
          "text": [
            "Tiempo Total:  1.584 [ms]\n",
            "Tiempo bucle:  1.062 [ms]\n",
            "Matriz original\n",
            " [[640. 927. 413. ... 806. 445. 621.]\n",
            " [189. 544. 217. ... 282. 404. 843.]\n",
            " [898. 876. 449. ... 482. 558. 548.]\n",
            " ...\n",
            " [959. 549. 578. ... 263. 662. 639.]\n",
            " [619. 922. 531. ... 835. 802. 449.]\n",
            " [872. 794. 428. ... 967. 148. 588.]]\n",
            "\n",
            "Matriz traspuesta\n",
            " [[640. 189. 898. ... 959. 619. 872.]\n",
            " [927. 544. 876. ... 549. 922. 794.]\n",
            " [413. 217. 449. ... 578. 531. 428.]\n",
            " ...\n",
            " [806. 282. 482. ... 263. 835. 967.]\n",
            " [445. 404. 558. ... 662. 802. 148.]\n",
            " [621. 843. 548. ... 639. 449. 588.]]\n"
          ],
          "name": "stdout"
        }
      ]
    },
    {
      "cell_type": "markdown",
      "metadata": {
        "id": "8KUWUtzfGO-A"
      },
      "source": [
        "#Tabla de pasos de ejecución del programa\n",
        "\n",
        "Procesador | Función | Detalle\n",
        "------------|---------|----------\n",
        "CPU      |  @param                | Ingresar el orden de la matriz.\n",
        "CPU      |  import                | Importar los módulos para funcionar.\n",
        "CPU      |  datetime.now()        | Tomar el tiempo actual.\n",
        "CPU      |  crearMatriz()         | Crear y cargar valores a la matriz original.\n",
        "CPU      |  crearMatriz()         | Crear matriz traspuesta (matrizTraspuesta).\n",
        "CPU      |  datetime.now()        | Tomar el tiempo actual.\n",
        "CPU      |  trasponerMatriz()     | Trasponer la matriz original.\n",
        "CPU      | datetime.now() - tiempo_traspuesta | Calcular tiempo total en trasponerMatriz.\n",
        "CPU      |  datetime.now() - tiempo_total | Calcular el tiempo total.\n",
        "CPU      |  tiempo_en_ms( time ) | Transformar tiempos en milisegundos.\n",
        "CPU      |  print()               | Mostrar estadísticas.\n",
        "CPU      |  print()            | Mostrar matriz original y matriz traspuesta.\n"
      ]
    },
    {
      "cell_type": "markdown",
      "metadata": {
        "id": "TLdIwXvNGZW7"
      },
      "source": [
        "---\n",
        "# 6 Bibliografía\n",
        "\n",
        "[1] Tutorial Point Colab: [PDF](https://github.com/wvaliente/SOA_HPC/blob/main/Documentos/markdown-cheatsheet-online.pdf)\n",
        "\n",
        "[2] Matriz traspuesta: [Enlace](https://es.wikipedia.org/wiki/Matriz_transpuesta)"
      ]
    },
    {
      "cell_type": "markdown",
      "metadata": {
        "id": "pIBTX2sUGofM"
      },
      "source": [
        "6 Bibliografía\n",
        "[1] Tutorial Point Colab: PDF\n",
        "\n",
        "[2] Modelo color HSV: Enlace"
      ]
    }
  ]
}