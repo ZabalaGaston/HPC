{
  "nbformat": 4,
  "nbformat_minor": 0,
  "metadata": {
    "colab": {
      "name": "Zabala_Gaston_ejercicio_2_CPU.ipynb",
      "provenance": [],
      "include_colab_link": true
    },
    "kernelspec": {
      "name": "python3",
      "display_name": "Python 3"
    }
  },
  "cells": [
    {
      "cell_type": "markdown",
      "metadata": {
        "id": "view-in-github",
        "colab_type": "text"
      },
      "source": [
        "<a href=\"https://colab.research.google.com/github/ZabalaGaston/HPC/blob/main/Zabala_Gaston_ejercicio_2_CPU.ipynb\" target=\"_parent\"><img src=\"https://colab.research.google.com/assets/colab-badge.svg\" alt=\"Open In Colab\"/></a>"
      ]
    },
    {
      "cell_type": "markdown",
      "metadata": {
        "id": "w5AWBVqlwzj3"
      },
      "source": [
        "#1 Introducción\n",
        "\n",
        "Una matriz traspuesta es el resultado de reordenar la matriz original mediantel cambio de filas por columnas y las columnas por filas en una nueva matriz. [3][2]\n",
        "\n",
        "\n",
        "\n",
        "<center>(A^t){ij}=A{ji},1 <= m, 1 <= j <= n </center> \n",
        "\n",
        "En este cuaderno, dejaré plasmado el algoritmo para trasponer una matriz cuadrada."
      ]
    },
    {
      "cell_type": "markdown",
      "metadata": {
        "id": "d10LurBTxBfY"
      },
      "source": [
        "#2 Armado del ambiente\n",
        "\n",
        "No son necesarios ejecuciones previas del armado del ambiente."
      ]
    },
    {
      "cell_type": "markdown",
      "metadata": {
        "id": "EHnae5Y8xGWY"
      },
      "source": [
        "#3 Desarrollo\n",
        "\n",
        "Ejecución del algoritmo para trasponer una matriz."
      ]
    },
    {
      "cell_type": "code",
      "metadata": {
        "id": "MvN8xEhatzP5",
        "colab": {
          "base_uri": "https://localhost:8080/"
        },
        "outputId": "153f0936-67fe-431e-dac1-974705e7b559"
      },
      "source": [
        "#@title 3.1 Parámetros de ejecución { vertical-output: true }\n",
        "#@title 3.1.1 Ingrese el orden { vertical-output: true }\n",
        "\n",
        "ordenMatriz =   10000#@param {type:\"integer\"}\n",
        "\n",
        "# --------------------------------------------\n",
        "from datetime import datetime\n",
        "tiempo_total = datetime.now()\n",
        "import numpy as np\n",
        "\n",
        "# --------------------------------------------\n",
        "# Definición de función que transforma el tiempo en  milisegundos \n",
        "tiempo_en_ms = lambda dt:(dt.days * 24 * 60 * 60 + dt.seconds) * 1000 + dt.microseconds / 1000.0\n",
        "\n",
        "def crearMatriz(orden):\n",
        "  m = np.random.randint(100, 1000, (ordenMatriz, ordenMatriz))\n",
        "  return m.astype( np.float32())\n",
        "\n",
        "def trasponerMatriz(mo,mt):\n",
        "  on = len(mo) #filas\n",
        "  for i in range(on):\n",
        "    for j in range(on):\n",
        "      mt[i][j] = mo[j][i]\n",
        "\n",
        "# --------------------------------------------\n",
        "# CPU - Defino la memoria de los vectores en cpu.\n",
        "\n",
        "try:\n",
        "  if ordenMatriz <= 0:\n",
        "    raise ValueError(\"Error: el orden de la matriz debe ser mayor a 0\");\n",
        "\n",
        "  matriz = crearMatriz(ordenMatriz)\n",
        "  matrizTraspuesta = crearMatriz(ordenMatriz)\n",
        "\n",
        "  tiempo_traspuesta = datetime.now()\n",
        "\n",
        "# CPU - Llamo a la función trasponerMatriz - Función principal\n",
        "\n",
        "  trasponerMatriz(matriz,matrizTraspuesta)\n",
        "\n",
        "  tiempo_traspuesta = datetime.now() - tiempo_traspuesta\n",
        "  \n",
        "# --------------------------------------------\n",
        "\n",
        "  tiempo_total = datetime.now() - tiempo_total\n",
        "\n",
        "  print(\"Tiempo Total: \", tiempo_en_ms( tiempo_total ), \"[ms]\" )\n",
        "  print(\"Tiempo bucle: \", tiempo_en_ms( tiempo_traspuesta ), \"[ms]\" )\n",
        "\n",
        "  print(\"Matriz original\\n\", matriz)\n",
        "  print(\"\\nMatriz traspuesta\\n\",matrizTraspuesta)\n",
        "\n",
        "except ValueError as vr:\n",
        "  print(vr)\n",
        "except Exception as e: \n",
        "  print(e.args)"
      ],
      "execution_count": 3,
      "outputs": [
        {
          "output_type": "stream",
          "text": [
            "Tiempo Total:  63024.465 [ms]\n",
            "Tiempo bucle:  60612.541 [ms]\n",
            "Matriz original\n",
            " [[946. 213. 980. ... 205. 590. 534.]\n",
            " [755. 770. 669. ... 593. 669. 118.]\n",
            " [355. 704. 404. ... 622. 401. 796.]\n",
            " ...\n",
            " [206. 810. 177. ... 903. 355. 419.]\n",
            " [110. 899. 240. ... 699. 684. 446.]\n",
            " [209. 505. 314. ... 464. 344. 681.]]\n",
            "\n",
            "Matriz traspuesta\n",
            " [[946. 755. 355. ... 206. 110. 209.]\n",
            " [213. 770. 704. ... 810. 899. 505.]\n",
            " [980. 669. 404. ... 177. 240. 314.]\n",
            " ...\n",
            " [205. 593. 622. ... 903. 699. 464.]\n",
            " [590. 669. 401. ... 355. 684. 344.]\n",
            " [534. 118. 796. ... 419. 446. 681.]]\n"
          ],
          "name": "stdout"
        }
      ]
    },
    {
      "cell_type": "markdown",
      "metadata": {
        "id": "8KUWUtzfGO-A"
      },
      "source": [
        "#Tabla de pasos de ejecución del programa\n",
        "\n",
        "Procesador | Función | Detalle\n",
        "------------|---------|----------\n",
        "CPU      |  @param                | Ingresar el orden de la matriz.\n",
        "CPU      |  import                | Importar los módulos para funcionar.\n",
        "CPU      |  datetime.now()        | Tomar el tiempo actual.\n",
        "CPU      |  crearMatriz()         | Crear y cargar valores a la matriz original.\n",
        "CPU      |  crearMatriz()         | Crear matriz traspuesta (matrizTraspuesta).\n",
        "CPU      |  datetime.now()        | Tomar el tiempo actual.\n",
        "CPU      |  trasponerMatriz()     | Trasponer la matriz original.\n",
        "CPU      | datetime.now() - tiempo_traspuesta | Calcular tiempo total en trasponerMatriz.\n",
        "CPU      |  datetime.now() - tiempo_total | Calcular el tiempo total.\n",
        "CPU      |  tiempo_en_ms( time ) | Transformar tiempos en milisegundos.\n",
        "CPU      |  print()               | Mostrar estadísticas.\n",
        "CPU      |  print()            | Mostrar matriz original y matriz traspuesta.\n"
      ]
    },
    {
      "cell_type": "markdown",
      "metadata": {
        "id": "h-sd6NB7ujWY"
      },
      "source": [
        "---\n",
        "# 5 Conclusiones\n",
        "\n",
        "En este cuaderno pudimos obersvar el funcionamiento un algoritmo en serie para matrices.\n",
        "\n",
        "Realicé la ejecución 10 veces para una matriz cuadrada de 10000 x 10000, obteniendo los siguientes resultados:\n",
        "\n",
        "Tiempo Total:  56339.996 [ms] | Tiempo bucle:  54438.133 [ms] <br>\n",
        "Tiempo Total:  56528.477 [ms] | Tiempo bucle:  54499.619 [ms] <br>\n",
        "Tiempo Total:  55890.466 [ms] | Tiempo bucle:  54246.096 [ms] <br>\n",
        "Tiempo Total:  58155.430 [ms] | Tiempo bucle:  56445.614 [ms] <br>\n",
        "Tiempo Total:  55414.698 [ms] | Tiempo bucle:  53737.859 [ms] <br>\n",
        "Tiempo Total:  55255.711 [ms] | Tiempo bucle:  53608.516 [ms] <br>\n",
        "Tiempo Total:  57207.924 [ms] | Tiempo bucle:  55566.520 [ms] <br>\n",
        "Tiempo Total:  55759.981 [ms] | Tiempo bucle:  54104.060 [ms] <br>\n",
        "Tiempo Total:  55446.184 [ms] | Tiempo bucle:  53801.693 [ms] <br>\n",
        "Tiempo Total:  55882.154 [ms] | Tiempo bucle:  54219.451 [ms] <br>\n",
        "\n",
        "Podemos notar, que los tiempos de ejecución promedio  del programa [56187.5 ms] son muchos **mayores** a los obtenidos utilizando GPU [1920.8 ms]; esto se debe a que la matriz se va recorriendo de un par a la vez.\n"
      ]
    },
    {
      "cell_type": "markdown",
      "metadata": {
        "id": "TLdIwXvNGZW7"
      },
      "source": [
        "---\n",
        "# 6 Bibliografía\n",
        "\n",
        "[1] Tutorial Point Colab: [PDF](https://github.com/wvaliente/SOA_HPC/blob/main/Documentos/markdown-cheatsheet-online.pdf)\n",
        "\n",
        "[2] Matriz traspuesta: [Enlace](https://es.wikipedia.org/wiki/Matriz_transpuesta)\n",
        "\n",
        "[3] Traspuesta: [Enlace](https://economipedia.com/definiciones/matriz-traspuesta.html#:~:text=Una%20matriz%20traspuesta%20es%20el,filas%20en%20una%20nueva%20matriz)"
      ]
    }
  ]
}