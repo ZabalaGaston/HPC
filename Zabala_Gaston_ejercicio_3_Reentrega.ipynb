{
  "nbformat": 4,
  "nbformat_minor": 0,
  "metadata": {
    "colab": {
      "name": "Zabala_Gaston_ejercicio_3.ipynb",
      "provenance": [],
      "authorship_tag": "ABX9TyNsMDxfy/9naVHsI1o0+5EB",
      "include_colab_link": true
    },
    "kernelspec": {
      "name": "python3",
      "display_name": "Python 3"
    }
  },
  "cells": [
    {
      "cell_type": "markdown",
      "metadata": {
        "id": "view-in-github",
        "colab_type": "text"
      },
      "source": [
        "<a href=\"https://colab.research.google.com/github/ZabalaGaston/HPC/blob/main/Zabala_Gaston_ejercicio_3_Reentrega.ipynb\" target=\"_parent\"><img src=\"https://colab.research.google.com/assets/colab-badge.svg\" alt=\"Open In Colab\"/></a>"
      ]
    },
    {
      "cell_type": "markdown",
      "metadata": {
        "id": "dbIPN-utyjCe"
      },
      "source": [
        "#1 Introducción\n",
        "\n",
        "La aceleración es la tasa de variación de la velocidad de un objeto cuando se mueve. Si el objeto en cuestión mantiene su velocidad de forma constante, entonces no está acelerando, algo que sí hará cuando su velocidad cambia. La aceleración se mide en metros por segundo al cuadrado, y lo hace en base al tiempo que le lleva pasar de una velocidad a otra, o bien en una fuerza que se aplica sobre el objeto. [1]\n",
        "\n",
        "Se puede calcular la aceleración de un cuerpo mediante la siguiente fórmula:\n",
        "\n",
        "## <center>$\\frac{vf-vi}{tf-ti} = {a}$\n",
        "\n",
        "A continuación, calcularemos la aceleración de varios cuerpos utilizando OpenMP [5]."
      ]
    },
    {
      "cell_type": "markdown",
      "metadata": {
        "id": "bqsIfTYvaUns"
      },
      "source": [
        "#2 Armado del ambiente"
      ]
    },
    {
      "cell_type": "markdown",
      "metadata": {
        "id": "-7Tgw7HdyntX"
      },
      "source": [
        "\n",
        "\n",
        "##2.1  Generar code_acel.cpp\n",
        "\n",
        "Mediante código Python, genero una cadena de texto con código C. Luego, guardo la cadena en el archivo code_acel.cpp"
      ]
    },
    {
      "cell_type": "code",
      "metadata": {
        "id": "1nBwkeo23jku"
      },
      "source": [
        "code = \"\"\"\n",
        "\n",
        "#include <iostream>\n",
        "#include <vector>\n",
        "#include <cstdlib>\n",
        "#include <sys/time.h>\n",
        "#include <omp.h> //Cabecera OpenMP\n",
        "\n",
        "//------------------------------------------------\n",
        "// Macros para medir el tiempo\n",
        "\n",
        "static double dHashTiempoHistory[3];\n",
        "static struct timeval tv;\n",
        "\n",
        "#define TIEMPO_INI( h )      \\\n",
        "   gettimeofday(&tv,NULL);   \\\n",
        "   dHashTiempoHistory[ h ] = tv.tv_sec + tv.tv_usec/1000000.0;\n",
        "   \n",
        "   \n",
        "#define TIEMPO_FIN( h )      \\\n",
        "   gettimeofday(&tv,NULL);   \\\n",
        "   dHashTiempoHistory[ h ] = ((tv.tv_sec + tv.tv_usec/1000000.0) - dHashTiempoHistory[ h ]) * 1000; // Devuelvo en milisegundos\n",
        "#define TIEMPO_GET( h ) dHashTiempoHistory[ h ]\n",
        "\n",
        "#define HTH_TOTAL     1\n",
        "#define HTH_ACEL_SEC  2\n",
        "#define HTH_ACEL_OMP  3\n",
        "\n",
        "//---------------------------------------------------------\n",
        "\n",
        "int main(int argc, char*argv[])\n",
        "{\n",
        "  int i,c;\n",
        "  TIEMPO_INI ( HTH_TOTAL )\n",
        "\n",
        "  //Leo los parametros.\n",
        "  if (argc != 4 )\n",
        "  {\n",
        "    std::cerr<<\"Error al ingresar los parámetros\" <<std::endl;\n",
        "    exit( - 1 );\n",
        "   }\n",
        "\n",
        "   int time               =  atoi( argv[1] );\n",
        "   int cantidadVehiculos  =  atoi( argv[2] );\n",
        "   int ciclos             =  atoi( argv[3] );\n",
        "\n",
        "   if ( time <= 0)\n",
        "   {\n",
        "      std::cerr<<\"El tiempo debe ser mayor a 0 [Parametro 1]\" <<std::endl;\n",
        "      exit( - 2 );\n",
        "   }\n",
        "\n",
        "   if ( cantidadVehiculos <= 0)\n",
        "   {\n",
        "      std::cerr<<\"La cantidad de vehículos debe ser mayor a 0 [Parametro 2]\" <<std::endl;\n",
        "      exit( - 3 );\n",
        "   }\n",
        "\n",
        "   if ( ciclos <= 0)\n",
        "   {\n",
        "      std::cerr<<\"La cantidad de ciclos debe ser mayor a 0 [Parametro 3]\" <<std::endl;\n",
        "      exit( - 4 );\n",
        "   }\n",
        "\n",
        "   std::cout<<\"Tiempo Acel sec : \" <<time<< \" [ms]\"<<std::endl;\n",
        "\n",
        "   //-----------------------------------------------------\n",
        "   // Defino la memoria de los vectores para la velocidad inicial y final\n",
        "\n",
        "   std:: vector<double>   VI ( cantidadVehiculos );\n",
        "   std:: vector<double>   VF ( cantidadVehiculos );\n",
        "   std:: vector<double>   AC ( cantidadVehiculos );\n",
        "\n",
        "   for (int i = 0; i < cantidadVehiculos; i++)\n",
        "   {\n",
        "      VI[i] = (rand()/(double)RAND_MAX)*100.0; // \n",
        "      VF[i] = (rand()/(double)RAND_MAX)*100.0; //\n",
        "   }\n",
        "\n",
        "  //------------------------------------------\n",
        "  // Realizo el cálculo de la aceleración en forma secuencial\n",
        "\n",
        "  TIEMPO_INI ( HTH_ACEL_SEC )\n",
        "\n",
        "  for(c=0; c<ciclos; c++)\n",
        "  {\n",
        "    for(i=0; i< cantidadVehiculos ; i++)\n",
        "    {\n",
        "      AC[i] = (VF[i] - VI[i]) / time;\n",
        "    }\n",
        "  }\n",
        "\n",
        "  TIEMPO_FIN ( HTH_ACEL_SEC )\n",
        "\n",
        "  // ---------------------------------------------\n",
        "  // Realizo el cálculo de la aceleración con OpenMP\n",
        "\n",
        "  TIEMPO_INI ( HTH_ACEL_OMP )\n",
        "\n",
        "  for(c=0; c<ciclos; c++)\n",
        "  {\n",
        "    #pragma omp parallel for\n",
        "    for(i=0; i< cantidadVehiculos ; i++)\n",
        "    {\n",
        "      AC[i] = (VF[i] - VI[i]) / time;\n",
        "    }\n",
        "  }\n",
        "\n",
        "  TIEMPO_FIN ( HTH_ACEL_OMP )\n",
        "\n",
        "  //------------------------------------------------\n",
        "\n",
        "  std::cout<<\"Valores Reales  : \" <<std::endl;\n",
        "  std::cout<<\"Tiempo Acel sec : \" <<TIEMPO_GET(HTH_ACEL_SEC)<< \" [ms]\"<<std::endl;\n",
        "  std::cout<<\"Tiempo Acel Omp : \" <<TIEMPO_GET(HTH_ACEL_OMP)<< \" [ms]\"<<std::endl;\n",
        "  std::cout<<std::endl;  \n",
        "}\n",
        "\"\"\"\n",
        "\n",
        "text_file = open(\"code_acel.cpp\",\"w\")\n",
        "text_file.write(code)\n",
        "text_file.close()\n",
        "\n"
      ],
      "execution_count": null,
      "outputs": []
    },
    {
      "cell_type": "markdown",
      "metadata": {
        "id": "AgfVNCHAA1tQ"
      },
      "source": [
        "##2.2 Compilación de código C (cálculo de aceleración)"
      ]
    },
    {
      "cell_type": "code",
      "metadata": {
        "id": "0HY_7zmcAo3R"
      },
      "source": [
        "!g++ -o acel -fopenmp code_acel.cpp"
      ],
      "execution_count": null,
      "outputs": []
    },
    {
      "cell_type": "markdown",
      "metadata": {
        "id": "6ikvs4vJy3eA"
      },
      "source": [
        "#3 Desarrollo"
      ]
    },
    {
      "cell_type": "code",
      "metadata": {
        "colab": {
          "base_uri": "https://localhost:8080/"
        },
        "id": "GaBLHSu1FcGX",
        "outputId": "8fee9a50-3675-4f52-c257-1b0b14f6068e"
      },
      "source": [
        "%env OMP_NUM_THREADS=2\n",
        "\n",
        "# --------------------------------------------\n",
        "from datetime import datetime\n",
        "tiempo_total = datetime.now()\n",
        "\n",
        "# --------------------------------------------\n",
        "# Definición de función que transforma el tiempo en  milisegundos \n",
        "tiempo_en_ms = lambda dt:(dt.days * 24 * 60 * 60 + dt.seconds) * 1000 + dt.microseconds / 1000.0\n",
        "\n",
        "#----------------------------------------------------------------------\n",
        "try:\n",
        "\n",
        "#---- Ejecución\n",
        "\n",
        "# Parámetros:\n",
        "# 1 -> Tiempo en segundos\n",
        "# 2 -> Cantidad de vehículos\n",
        "# 3 -> Cantidad de ciclos\n",
        "\n",
        "  !./acel 10 1000000 50\n",
        "#----\n",
        "\n",
        "  tiempo_total = datetime.now() - tiempo_total;\n",
        "  print(\"Tiempo Total: \", tiempo_en_ms( tiempo_total ), \"[ms]\" )\n",
        "\n",
        "except Exception as e:\n",
        "  print(\"Error:\",e.args)"
      ],
      "execution_count": null,
      "outputs": [
        {
          "output_type": "stream",
          "text": [
            "env: OMP_NUM_THREADS=2\n",
            "Tiempo Acel sec : 10 [ms]\n",
            "Valores Reales  : \n",
            "Tiempo Acel sec : 510.522 [ms]\n",
            "Tiempo Acel Omp : 466.601 [ms]\n",
            "\n",
            "Tiempo Total:  1121.679 [ms]\n"
          ],
          "name": "stdout"
        }
      ]
    },
    {
      "cell_type": "markdown",
      "metadata": {
        "id": "jjeQ2NUny9tP"
      },
      "source": [
        "#4 Tabla de pasos\n",
        "\n",
        "\n",
        "\n",
        " Procesador | Función | Detalle\n",
        "------------|---------|----------\n",
        "CPU      |  open(\"code_acel.cpp\",\"w\") | Creo el archivo code_acel.cpp\n",
        "CPU      |  text_file.write(code)     | Escribo el código C en el archivo code_acel.cpp.\n",
        "CPU      |text_file.close()       | Cierro el archivo.\n",
        "         |  !g++ -o acel -fopenmp code_acel.cpp                | Compilación del código C.\n",
        "CPU      |  datetime.now()        | Toma el tiempo actual.\n",
        "         |  !./acel 10 1000000 50| Ejecución del cálculo de aceleración en openMP. \n",
        "CPU      |  datetime.now()        | Toma el tiempo final.\n",
        "CPU      |  print()               | Informa los resultados."
      ]
    },
    {
      "cell_type": "markdown",
      "metadata": {
        "id": "J13o89MdzAAI"
      },
      "source": [
        "#5 Conclusiones\n",
        "\n",
        "Podemos observar que los tiempos para calcular la aceleración secuencial son mayores que al calcular la aceleración en paralelo (OpenMP).\n",
        "\n",
        "Tiempo Acel sec : 608.134 [ms] <br>\n",
        "Tiempo Acel Omp : 460.362 [ms] <br>\n",
        "Tiempo Total:     1219.696 [ms]\n",
        "\n",
        "Para la ejecución secuencial, se utilizo un FOR para recorrer los vectores que contienen la velocidad inicial y final de los cuerpos.\n",
        "Para la ejecución en paralelo se utiliza OpenMP. La sentencia #pragma omp parallel for, nos indica que la parte de código que la comprende puede ser ejecutada por varios hilos. Se crea una tarea implícita para cada hilo perteneciente al equipo de hilos creado por el parallel.(Por defecto, openmp sabe que vamos a iterar por el valor i). \n",
        "\n",
        "El punto más relevante en este ejercicio es demostrar el funcionamiento y utilizacion de OpenMP.\n",
        "\n",
        "En cuanto a lecciones aprendidas, comprendí el funcionamiento de OpenMP. <br>\n",
        "Como mejora, se podrían agregar métricas de ejecución para un posterior análisis."
      ]
    },
    {
      "cell_type": "markdown",
      "metadata": {
        "id": "9M73j4RMzFhe"
      },
      "source": [
        "#6 Bibliografía\n",
        "\n",
        "[1] Aceleracion: [Referencia](https://www.fisicalab.com/apartado/aceleracion)\n",
        "\n",
        "[2] Introducción a Python: [Página Colab](https://github.com/wvaliente/SOA_HPC/blob/main/Documentos/Python_Basico.ipynb) \n",
        "\n",
        "[3] Numpy: [Referencia](https://numpy.org/doc/1.16/reference/routines.random.html)\n",
        "\n",
        "[4] Sliders Parametros: [Referencia](https://colab.research.google.com/notebooks/forms.ipynb)\n",
        "\n",
        "[5] openMP: [Enlace](https://es.wikipedia.org/wiki/OpenMP)"
      ]
    }
  ]
}